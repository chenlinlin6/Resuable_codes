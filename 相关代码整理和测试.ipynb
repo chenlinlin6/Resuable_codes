{
 "cells": [
  {
   "cell_type": "code",
   "execution_count": 1,
   "metadata": {},
   "outputs": [],
   "source": [
    "# 导入模块\n",
    "import pandas as pd\n",
    "import numpy as np\n",
    "import matplotlib.pyplot as plt\n",
    "import os\n",
    "import seaborn as sns\n",
    "import logging\n",
    "from tqdm import tqdm\n",
    "import warnings \n",
    "warnings.filterwarnings('ignore')\n",
    "%matplotlib inline\n",
    "plt.rc('font',family='SimHei', size=13)\n",
    "# os.chdir('')"
   ]
  },
  {
   "cell_type": "code",
   "execution_count": 2,
   "metadata": {},
   "outputs": [],
   "source": [
    "from sklearn.linear_model import LogisticRegression"
   ]
  },
  {
   "cell_type": "code",
   "execution_count": 3,
   "metadata": {},
   "outputs": [],
   "source": [
    "data=pd.read_csv('pima-indians-diabetes.data.csv',names=list('abcdefgh')+['target'])"
   ]
  },
  {
   "cell_type": "code",
   "execution_count": 21,
   "metadata": {},
   "outputs": [
    {
     "data": {
      "text/plain": [
       "array([ 6,  1,  8,  0,  5,  3, 10,  2,  4,  7,  9, 11, 13, 15, 17, 12, 14])"
      ]
     },
     "execution_count": 21,
     "metadata": {},
     "output_type": "execute_result"
    }
   ],
   "source": [
    "data['a'].unique()"
   ]
  },
  {
   "cell_type": "code",
   "execution_count": 22,
   "metadata": {},
   "outputs": [
    {
     "data": {
      "text/plain": [
       "1     135\n",
       "0     111\n",
       "2     103\n",
       "3      75\n",
       "4      68\n",
       "5      57\n",
       "6      50\n",
       "7      45\n",
       "8      38\n",
       "9      28\n",
       "10     24\n",
       "11     11\n",
       "13     10\n",
       "12      9\n",
       "14      2\n",
       "15      1\n",
       "17      1\n",
       "Name: a, dtype: int64"
      ]
     },
     "execution_count": 22,
     "metadata": {},
     "output_type": "execute_result"
    }
   ],
   "source": [
    "data['a'].value_counts()"
   ]
  },
  {
   "cell_type": "code",
   "execution_count": 23,
   "metadata": {},
   "outputs": [],
   "source": [
    "def cal_range_value(df,col):\n",
    "    return df.groupby(col).agg({'y':['count', 'mean']})\n"
   ]
  },
  {
   "cell_type": "code",
   "execution_count": 25,
   "metadata": {},
   "outputs": [
    {
     "data": {
      "text/html": [
       "<div>\n",
       "<style scoped>\n",
       "    .dataframe tbody tr th:only-of-type {\n",
       "        vertical-align: middle;\n",
       "    }\n",
       "\n",
       "    .dataframe tbody tr th {\n",
       "        vertical-align: top;\n",
       "    }\n",
       "\n",
       "    .dataframe thead tr th {\n",
       "        text-align: left;\n",
       "    }\n",
       "\n",
       "    .dataframe thead tr:last-of-type th {\n",
       "        text-align: right;\n",
       "    }\n",
       "</style>\n",
       "<table border=\"1\" class=\"dataframe\">\n",
       "  <thead>\n",
       "    <tr>\n",
       "      <th></th>\n",
       "      <th colspan=\"2\" halign=\"left\">y</th>\n",
       "    </tr>\n",
       "    <tr>\n",
       "      <th></th>\n",
       "      <th>count</th>\n",
       "      <th>mean</th>\n",
       "    </tr>\n",
       "    <tr>\n",
       "      <th>a</th>\n",
       "      <th></th>\n",
       "      <th></th>\n",
       "    </tr>\n",
       "  </thead>\n",
       "  <tbody>\n",
       "    <tr>\n",
       "      <th>0</th>\n",
       "      <td>111</td>\n",
       "      <td>0.342342</td>\n",
       "    </tr>\n",
       "    <tr>\n",
       "      <th>1</th>\n",
       "      <td>135</td>\n",
       "      <td>0.214815</td>\n",
       "    </tr>\n",
       "    <tr>\n",
       "      <th>2</th>\n",
       "      <td>103</td>\n",
       "      <td>0.184466</td>\n",
       "    </tr>\n",
       "    <tr>\n",
       "      <th>3</th>\n",
       "      <td>75</td>\n",
       "      <td>0.360000</td>\n",
       "    </tr>\n",
       "    <tr>\n",
       "      <th>4</th>\n",
       "      <td>68</td>\n",
       "      <td>0.338235</td>\n",
       "    </tr>\n",
       "    <tr>\n",
       "      <th>5</th>\n",
       "      <td>57</td>\n",
       "      <td>0.368421</td>\n",
       "    </tr>\n",
       "    <tr>\n",
       "      <th>6</th>\n",
       "      <td>50</td>\n",
       "      <td>0.320000</td>\n",
       "    </tr>\n",
       "    <tr>\n",
       "      <th>7</th>\n",
       "      <td>45</td>\n",
       "      <td>0.555556</td>\n",
       "    </tr>\n",
       "    <tr>\n",
       "      <th>8</th>\n",
       "      <td>38</td>\n",
       "      <td>0.578947</td>\n",
       "    </tr>\n",
       "    <tr>\n",
       "      <th>9</th>\n",
       "      <td>28</td>\n",
       "      <td>0.642857</td>\n",
       "    </tr>\n",
       "    <tr>\n",
       "      <th>10</th>\n",
       "      <td>24</td>\n",
       "      <td>0.416667</td>\n",
       "    </tr>\n",
       "    <tr>\n",
       "      <th>11</th>\n",
       "      <td>11</td>\n",
       "      <td>0.636364</td>\n",
       "    </tr>\n",
       "    <tr>\n",
       "      <th>12</th>\n",
       "      <td>9</td>\n",
       "      <td>0.444444</td>\n",
       "    </tr>\n",
       "    <tr>\n",
       "      <th>13</th>\n",
       "      <td>10</td>\n",
       "      <td>0.500000</td>\n",
       "    </tr>\n",
       "    <tr>\n",
       "      <th>14</th>\n",
       "      <td>2</td>\n",
       "      <td>1.000000</td>\n",
       "    </tr>\n",
       "    <tr>\n",
       "      <th>15</th>\n",
       "      <td>1</td>\n",
       "      <td>1.000000</td>\n",
       "    </tr>\n",
       "    <tr>\n",
       "      <th>17</th>\n",
       "      <td>1</td>\n",
       "      <td>1.000000</td>\n",
       "    </tr>\n",
       "  </tbody>\n",
       "</table>\n",
       "</div>"
      ],
      "text/plain": [
       "       y          \n",
       "   count      mean\n",
       "a                 \n",
       "0    111  0.342342\n",
       "1    135  0.214815\n",
       "2    103  0.184466\n",
       "3     75  0.360000\n",
       "4     68  0.338235\n",
       "5     57  0.368421\n",
       "6     50  0.320000\n",
       "7     45  0.555556\n",
       "8     38  0.578947\n",
       "9     28  0.642857\n",
       "10    24  0.416667\n",
       "11    11  0.636364\n",
       "12     9  0.444444\n",
       "13    10  0.500000\n",
       "14     2  1.000000\n",
       "15     1  1.000000\n",
       "17     1  1.000000"
      ]
     },
     "execution_count": 25,
     "metadata": {},
     "output_type": "execute_result"
    }
   ],
   "source": [
    "result_df=cal_range_value(data, 'a')\n",
    "result_df"
   ]
  },
  {
   "cell_type": "code",
   "execution_count": 35,
   "metadata": {},
   "outputs": [],
   "source": [
    "result_df.columns=result_df.columns.droplevel()"
   ]
  },
  {
   "cell_type": "code",
   "execution_count": 46,
   "metadata": {},
   "outputs": [
    {
     "data": {
      "text/plain": [
       "<matplotlib.axes._subplots.AxesSubplot at 0x1a2b03b390>"
      ]
     },
     "execution_count": 46,
     "metadata": {},
     "output_type": "execute_result"
    },
    {
     "data": {
      "image/png": "[encoded data removed]",
      "text/plain": [
       "<Figure size 576x432 with 2 Axes>"
      ]
     },
     "metadata": {
      "needs_background": "light"
     },
     "output_type": "display_data"
    }
   ],
   "source": [
    "figure,ax=plt.subplots(figsize=(8,6))\n",
    "result_df.plot(y='count',kind='bar',ax=ax)\n",
    "result_df.plot(y='mean',kind='line',ax=ax,secondary_y=True,style='-o')"
   ]
  },
  {
   "cell_type": "code",
   "execution_count": 54,
   "metadata": {},
   "outputs": [
    {
     "data": {
      "text/html": [
       "<div>\n",
       "<style scoped>\n",
       "    .dataframe tbody tr th:only-of-type {\n",
       "        vertical-align: middle;\n",
       "    }\n",
       "\n",
       "    .dataframe tbody tr th {\n",
       "        vertical-align: top;\n",
       "    }\n",
       "\n",
       "    .dataframe thead th {\n",
       "        text-align: right;\n",
       "    }\n",
       "</style>\n",
       "<table border=\"1\" class=\"dataframe\">\n",
       "  <thead>\n",
       "    <tr style=\"text-align: right;\">\n",
       "      <th></th>\n",
       "      <th>a</th>\n",
       "      <th>b</th>\n",
       "    </tr>\n",
       "  </thead>\n",
       "  <tbody>\n",
       "    <tr>\n",
       "      <th>0</th>\n",
       "      <td>1</td>\n",
       "      <td>0</td>\n",
       "    </tr>\n",
       "  </tbody>\n",
       "</table>\n",
       "</div>"
      ],
      "text/plain": [
       "   a  b\n",
       "0  1  0"
      ]
     },
     "execution_count": 54,
     "metadata": {},
     "output_type": "execute_result"
    }
   ],
   "source": [
    "pd.DataFrame([[1,0]],columns=list('ab'),index=[0])"
   ]
  },
  {
   "cell_type": "code",
   "execution_count": 57,
   "metadata": {},
   "outputs": [
    {
     "data": {
      "text/html": [
       "<div>\n",
       "<style scoped>\n",
       "    .dataframe tbody tr th:only-of-type {\n",
       "        vertical-align: middle;\n",
       "    }\n",
       "\n",
       "    .dataframe tbody tr th {\n",
       "        vertical-align: top;\n",
       "    }\n",
       "\n",
       "    .dataframe thead th {\n",
       "        text-align: right;\n",
       "    }\n",
       "</style>\n",
       "<table border=\"1\" class=\"dataframe\">\n",
       "  <thead>\n",
       "    <tr style=\"text-align: right;\">\n",
       "      <th></th>\n",
       "      <th>a</th>\n",
       "    </tr>\n",
       "    <tr>\n",
       "      <th>a</th>\n",
       "      <th></th>\n",
       "    </tr>\n",
       "  </thead>\n",
       "  <tbody>\n",
       "    <tr>\n",
       "      <th>0</th>\n",
       "      <td>111</td>\n",
       "    </tr>\n",
       "    <tr>\n",
       "      <th>1</th>\n",
       "      <td>135</td>\n",
       "    </tr>\n",
       "    <tr>\n",
       "      <th>2</th>\n",
       "      <td>103</td>\n",
       "    </tr>\n",
       "    <tr>\n",
       "      <th>3</th>\n",
       "      <td>75</td>\n",
       "    </tr>\n",
       "    <tr>\n",
       "      <th>4</th>\n",
       "      <td>68</td>\n",
       "    </tr>\n",
       "    <tr>\n",
       "      <th>5</th>\n",
       "      <td>57</td>\n",
       "    </tr>\n",
       "    <tr>\n",
       "      <th>6</th>\n",
       "      <td>50</td>\n",
       "    </tr>\n",
       "    <tr>\n",
       "      <th>7</th>\n",
       "      <td>45</td>\n",
       "    </tr>\n",
       "    <tr>\n",
       "      <th>8</th>\n",
       "      <td>38</td>\n",
       "    </tr>\n",
       "    <tr>\n",
       "      <th>9</th>\n",
       "      <td>28</td>\n",
       "    </tr>\n",
       "    <tr>\n",
       "      <th>10</th>\n",
       "      <td>24</td>\n",
       "    </tr>\n",
       "    <tr>\n",
       "      <th>11</th>\n",
       "      <td>11</td>\n",
       "    </tr>\n",
       "    <tr>\n",
       "      <th>12</th>\n",
       "      <td>9</td>\n",
       "    </tr>\n",
       "    <tr>\n",
       "      <th>13</th>\n",
       "      <td>10</td>\n",
       "    </tr>\n",
       "    <tr>\n",
       "      <th>14</th>\n",
       "      <td>2</td>\n",
       "    </tr>\n",
       "    <tr>\n",
       "      <th>15</th>\n",
       "      <td>1</td>\n",
       "    </tr>\n",
       "    <tr>\n",
       "      <th>17</th>\n",
       "      <td>1</td>\n",
       "    </tr>\n",
       "  </tbody>\n",
       "</table>\n",
       "</div>"
      ],
      "text/plain": [
       "      a\n",
       "a      \n",
       "0   111\n",
       "1   135\n",
       "2   103\n",
       "3    75\n",
       "4    68\n",
       "5    57\n",
       "6    50\n",
       "7    45\n",
       "8    38\n",
       "9    28\n",
       "10   24\n",
       "11   11\n",
       "12    9\n",
       "13   10\n",
       "14    2\n",
       "15    1\n",
       "17    1"
      ]
     },
     "execution_count": 57,
     "metadata": {},
     "output_type": "execute_result"
    }
   ],
   "source": [
    "data.groupby('a').agg({'a':'count'})"
   ]
  },
  {
   "cell_type": "code",
   "execution_count": 58,
   "metadata": {},
   "outputs": [
    {
     "data": {
      "text/html": [
       "<div>\n",
       "<style scoped>\n",
       "    .dataframe tbody tr th:only-of-type {\n",
       "        vertical-align: middle;\n",
       "    }\n",
       "\n",
       "    .dataframe tbody tr th {\n",
       "        vertical-align: top;\n",
       "    }\n",
       "\n",
       "    .dataframe thead th {\n",
       "        text-align: right;\n",
       "    }\n",
       "</style>\n",
       "<table border=\"1\" class=\"dataframe\">\n",
       "  <thead>\n",
       "    <tr style=\"text-align: right;\">\n",
       "      <th></th>\n",
       "      <th>a</th>\n",
       "    </tr>\n",
       "    <tr>\n",
       "      <th>a</th>\n",
       "      <th></th>\n",
       "    </tr>\n",
       "  </thead>\n",
       "  <tbody>\n",
       "    <tr>\n",
       "      <th>0</th>\n",
       "      <td>111</td>\n",
       "    </tr>\n",
       "    <tr>\n",
       "      <th>1</th>\n",
       "      <td>246</td>\n",
       "    </tr>\n",
       "    <tr>\n",
       "      <th>2</th>\n",
       "      <td>349</td>\n",
       "    </tr>\n",
       "    <tr>\n",
       "      <th>3</th>\n",
       "      <td>424</td>\n",
       "    </tr>\n",
       "    <tr>\n",
       "      <th>4</th>\n",
       "      <td>492</td>\n",
       "    </tr>\n",
       "    <tr>\n",
       "      <th>5</th>\n",
       "      <td>549</td>\n",
       "    </tr>\n",
       "    <tr>\n",
       "      <th>6</th>\n",
       "      <td>599</td>\n",
       "    </tr>\n",
       "    <tr>\n",
       "      <th>7</th>\n",
       "      <td>644</td>\n",
       "    </tr>\n",
       "    <tr>\n",
       "      <th>8</th>\n",
       "      <td>682</td>\n",
       "    </tr>\n",
       "    <tr>\n",
       "      <th>9</th>\n",
       "      <td>710</td>\n",
       "    </tr>\n",
       "    <tr>\n",
       "      <th>10</th>\n",
       "      <td>734</td>\n",
       "    </tr>\n",
       "    <tr>\n",
       "      <th>11</th>\n",
       "      <td>745</td>\n",
       "    </tr>\n",
       "    <tr>\n",
       "      <th>12</th>\n",
       "      <td>754</td>\n",
       "    </tr>\n",
       "    <tr>\n",
       "      <th>13</th>\n",
       "      <td>764</td>\n",
       "    </tr>\n",
       "    <tr>\n",
       "      <th>14</th>\n",
       "      <td>766</td>\n",
       "    </tr>\n",
       "    <tr>\n",
       "      <th>15</th>\n",
       "      <td>767</td>\n",
       "    </tr>\n",
       "    <tr>\n",
       "      <th>17</th>\n",
       "      <td>768</td>\n",
       "    </tr>\n",
       "  </tbody>\n",
       "</table>\n",
       "</div>"
      ],
      "text/plain": [
       "      a\n",
       "a      \n",
       "0   111\n",
       "1   246\n",
       "2   349\n",
       "3   424\n",
       "4   492\n",
       "5   549\n",
       "6   599\n",
       "7   644\n",
       "8   682\n",
       "9   710\n",
       "10  734\n",
       "11  745\n",
       "12  754\n",
       "13  764\n",
       "14  766\n",
       "15  767\n",
       "17  768"
      ]
     },
     "execution_count": 58,
     "metadata": {},
     "output_type": "execute_result"
    }
   ],
   "source": [
    "data.groupby('a').agg({'a':'count'}).cumsum()"
   ]
  },
  {
   "cell_type": "code",
   "execution_count": 6,
   "metadata": {},
   "outputs": [
    {
     "data": {
      "text/html": [
       "<div>\n",
       "<style scoped>\n",
       "    .dataframe tbody tr th:only-of-type {\n",
       "        vertical-align: middle;\n",
       "    }\n",
       "\n",
       "    .dataframe tbody tr th {\n",
       "        vertical-align: top;\n",
       "    }\n",
       "\n",
       "    .dataframe thead th {\n",
       "        text-align: right;\n",
       "    }\n",
       "</style>\n",
       "<table border=\"1\" class=\"dataframe\">\n",
       "  <thead>\n",
       "    <tr style=\"text-align: right;\">\n",
       "      <th></th>\n",
       "      <th>a</th>\n",
       "      <th>b</th>\n",
       "      <th>c</th>\n",
       "      <th>d</th>\n",
       "      <th>e</th>\n",
       "      <th>f</th>\n",
       "      <th>g</th>\n",
       "      <th>h</th>\n",
       "      <th>target</th>\n",
       "    </tr>\n",
       "  </thead>\n",
       "  <tbody>\n",
       "    <tr>\n",
       "      <th>0</th>\n",
       "      <td>6</td>\n",
       "      <td>148</td>\n",
       "      <td>72</td>\n",
       "      <td>35</td>\n",
       "      <td>0</td>\n",
       "      <td>33.6</td>\n",
       "      <td>0.627</td>\n",
       "      <td>50</td>\n",
       "      <td>1</td>\n",
       "    </tr>\n",
       "    <tr>\n",
       "      <th>1</th>\n",
       "      <td>1</td>\n",
       "      <td>85</td>\n",
       "      <td>66</td>\n",
       "      <td>29</td>\n",
       "      <td>0</td>\n",
       "      <td>26.6</td>\n",
       "      <td>0.351</td>\n",
       "      <td>31</td>\n",
       "      <td>0</td>\n",
       "    </tr>\n",
       "    <tr>\n",
       "      <th>2</th>\n",
       "      <td>8</td>\n",
       "      <td>183</td>\n",
       "      <td>64</td>\n",
       "      <td>0</td>\n",
       "      <td>0</td>\n",
       "      <td>23.3</td>\n",
       "      <td>0.672</td>\n",
       "      <td>32</td>\n",
       "      <td>1</td>\n",
       "    </tr>\n",
       "    <tr>\n",
       "      <th>3</th>\n",
       "      <td>1</td>\n",
       "      <td>89</td>\n",
       "      <td>66</td>\n",
       "      <td>23</td>\n",
       "      <td>94</td>\n",
       "      <td>28.1</td>\n",
       "      <td>0.167</td>\n",
       "      <td>21</td>\n",
       "      <td>0</td>\n",
       "    </tr>\n",
       "    <tr>\n",
       "      <th>4</th>\n",
       "      <td>0</td>\n",
       "      <td>137</td>\n",
       "      <td>40</td>\n",
       "      <td>35</td>\n",
       "      <td>168</td>\n",
       "      <td>43.1</td>\n",
       "      <td>2.288</td>\n",
       "      <td>33</td>\n",
       "      <td>1</td>\n",
       "    </tr>\n",
       "  </tbody>\n",
       "</table>\n",
       "</div>"
      ],
      "text/plain": [
       "   a    b   c   d    e     f      g   h  target\n",
       "0  6  148  72  35    0  33.6  0.627  50       1\n",
       "1  1   85  66  29    0  26.6  0.351  31       0\n",
       "2  8  183  64   0    0  23.3  0.672  32       1\n",
       "3  1   89  66  23   94  28.1  0.167  21       0\n",
       "4  0  137  40  35  168  43.1  2.288  33       1"
      ]
     },
     "execution_count": 6,
     "metadata": {},
     "output_type": "execute_result"
    }
   ],
   "source": [
    "data.head()"
   ]
  },
  {
   "cell_type": "code",
   "execution_count": 7,
   "metadata": {},
   "outputs": [
    {
     "data": {
      "text/plain": [
       "(768, 9)"
      ]
     },
     "execution_count": 7,
     "metadata": {},
     "output_type": "execute_result"
    }
   ],
   "source": [
    "data.shape"
   ]
  },
  {
   "cell_type": "code",
   "execution_count": 8,
   "metadata": {},
   "outputs": [],
   "source": [
    "from sklearn.model_selection import train_test_split"
   ]
  },
  {
   "cell_type": "code",
   "execution_count": 9,
   "metadata": {},
   "outputs": [],
   "source": [
    "X_train, X_test,y_train,y_test=train_test_split(data.iloc[:,:-1], data.iloc[:,-1],test_size=0.3)"
   ]
  },
  {
   "cell_type": "code",
   "execution_count": 10,
   "metadata": {},
   "outputs": [
    {
     "data": {
      "text/plain": [
       "(537, 8)"
      ]
     },
     "execution_count": 10,
     "metadata": {},
     "output_type": "execute_result"
    }
   ],
   "source": [
    "X_train.shape"
   ]
  },
  {
   "cell_type": "code",
   "execution_count": 11,
   "metadata": {},
   "outputs": [
    {
     "data": {
      "text/plain": [
       "(537,)"
      ]
     },
     "execution_count": 11,
     "metadata": {},
     "output_type": "execute_result"
    }
   ],
   "source": [
    "y_train.shape"
   ]
  },
  {
   "cell_type": "code",
   "execution_count": 12,
   "metadata": {},
   "outputs": [],
   "source": [
    "import lightgbm as lgb"
   ]
  },
  {
   "cell_type": "code",
   "execution_count": 13,
   "metadata": {},
   "outputs": [],
   "source": [
    "clf=lgb.LGBMClassifier()"
   ]
  },
  {
   "cell_type": "code",
   "execution_count": 14,
   "metadata": {},
   "outputs": [
    {
     "data": {
      "text/plain": [
       "LGBMClassifier(boosting_type='gbdt', class_weight=None, colsample_bytree=1.0,\n",
       "               importance_type='split', learning_rate=0.1, max_depth=-1,\n",
       "               min_child_samples=20, min_child_weight=0.001, min_split_gain=0.0,\n",
       "               n_estimators=100, n_jobs=-1, num_leaves=31, objective=None,\n",
       "               random_state=None, reg_alpha=0.0, reg_lambda=0.0, silent=True,\n",
       "               subsample=1.0, subsample_for_bin=200000, subsample_freq=0)"
      ]
     },
     "execution_count": 14,
     "metadata": {},
     "output_type": "execute_result"
    }
   ],
   "source": [
    "clf.fit(X_train, y_train)"
   ]
  },
  {
   "cell_type": "code",
   "execution_count": 15,
   "metadata": {},
   "outputs": [],
   "source": [
    "y_prob=clf.predict_proba(X_test)"
   ]
  },
  {
   "cell_type": "code",
   "execution_count": 16,
   "metadata": {},
   "outputs": [],
   "source": [
    "y_pred=clf.predict(X_test)"
   ]
  },
  {
   "cell_type": "code",
   "execution_count": 17,
   "metadata": {},
   "outputs": [],
   "source": [
    "np.save('X.npy',data.iloc[:,:-1])"
   ]
  },
  {
   "cell_type": "code",
   "execution_count": 18,
   "metadata": {},
   "outputs": [],
   "source": [
    "np.save('y.npy',data.iloc[:,-1])"
   ]
  },
  {
   "cell_type": "code",
   "execution_count": 19,
   "metadata": {},
   "outputs": [
    {
     "data": {
      "text/html": [
       "<div>\n",
       "<style scoped>\n",
       "    .dataframe tbody tr th:only-of-type {\n",
       "        vertical-align: middle;\n",
       "    }\n",
       "\n",
       "    .dataframe tbody tr th {\n",
       "        vertical-align: top;\n",
       "    }\n",
       "\n",
       "    .dataframe thead th {\n",
       "        text-align: right;\n",
       "    }\n",
       "</style>\n",
       "<table border=\"1\" class=\"dataframe\">\n",
       "  <thead>\n",
       "    <tr style=\"text-align: right;\">\n",
       "      <th></th>\n",
       "      <th>a</th>\n",
       "      <th>b</th>\n",
       "      <th>c</th>\n",
       "      <th>d</th>\n",
       "      <th>e</th>\n",
       "      <th>f</th>\n",
       "      <th>g</th>\n",
       "      <th>h</th>\n",
       "      <th>target</th>\n",
       "    </tr>\n",
       "  </thead>\n",
       "  <tbody>\n",
       "    <tr>\n",
       "      <th>0</th>\n",
       "      <td>6</td>\n",
       "      <td>148</td>\n",
       "      <td>72</td>\n",
       "      <td>35</td>\n",
       "      <td>0</td>\n",
       "      <td>33.6</td>\n",
       "      <td>0.627</td>\n",
       "      <td>50</td>\n",
       "      <td>1</td>\n",
       "    </tr>\n",
       "    <tr>\n",
       "      <th>1</th>\n",
       "      <td>1</td>\n",
       "      <td>85</td>\n",
       "      <td>66</td>\n",
       "      <td>29</td>\n",
       "      <td>0</td>\n",
       "      <td>26.6</td>\n",
       "      <td>0.351</td>\n",
       "      <td>31</td>\n",
       "      <td>0</td>\n",
       "    </tr>\n",
       "    <tr>\n",
       "      <th>2</th>\n",
       "      <td>8</td>\n",
       "      <td>183</td>\n",
       "      <td>64</td>\n",
       "      <td>0</td>\n",
       "      <td>0</td>\n",
       "      <td>23.3</td>\n",
       "      <td>0.672</td>\n",
       "      <td>32</td>\n",
       "      <td>1</td>\n",
       "    </tr>\n",
       "    <tr>\n",
       "      <th>3</th>\n",
       "      <td>1</td>\n",
       "      <td>89</td>\n",
       "      <td>66</td>\n",
       "      <td>23</td>\n",
       "      <td>94</td>\n",
       "      <td>28.1</td>\n",
       "      <td>0.167</td>\n",
       "      <td>21</td>\n",
       "      <td>0</td>\n",
       "    </tr>\n",
       "    <tr>\n",
       "      <th>4</th>\n",
       "      <td>0</td>\n",
       "      <td>137</td>\n",
       "      <td>40</td>\n",
       "      <td>35</td>\n",
       "      <td>168</td>\n",
       "      <td>43.1</td>\n",
       "      <td>2.288</td>\n",
       "      <td>33</td>\n",
       "      <td>1</td>\n",
       "    </tr>\n",
       "  </tbody>\n",
       "</table>\n",
       "</div>"
      ],
      "text/plain": [
       "   a    b   c   d    e     f      g   h  target\n",
       "0  6  148  72  35    0  33.6  0.627  50       1\n",
       "1  1   85  66  29    0  26.6  0.351  31       0\n",
       "2  8  183  64   0    0  23.3  0.672  32       1\n",
       "3  1   89  66  23   94  28.1  0.167  21       0\n",
       "4  0  137  40  35  168  43.1  2.288  33       1"
      ]
     },
     "execution_count": 19,
     "metadata": {},
     "output_type": "execute_result"
    }
   ],
   "source": [
    "data.head()"
   ]
  },
  {
   "cell_type": "code",
   "execution_count": 20,
   "metadata": {},
   "outputs": [],
   "source": [
    "data.rename(columns={'target':'y'},inplace=True)"
   ]
  },
  {
   "cell_type": "code",
   "execution_count": 18,
   "metadata": {},
   "outputs": [],
   "source": [
    "p1=np.mean(data['y']==1)\n"
   ]
  },
  {
   "cell_type": "code",
   "execution_count": 19,
   "metadata": {},
   "outputs": [
    {
     "data": {
      "text/plain": [
       "0.6467994206632901"
      ]
     },
     "execution_count": 19,
     "metadata": {},
     "output_type": "execute_result"
    }
   ],
   "source": [
    "-p1*np.log(p1)-(1-p1)*np.log(1-p1)"
   ]
  },
  {
   "cell_type": "code",
   "execution_count": 20,
   "metadata": {},
   "outputs": [
    {
     "data": {
      "text/plain": [
       "0.3489583333333333"
      ]
     },
     "execution_count": 20,
     "metadata": {},
     "output_type": "execute_result"
    }
   ],
   "source": [
    "p1"
   ]
  },
  {
   "cell_type": "code",
   "execution_count": 21,
   "metadata": {},
   "outputs": [
    {
     "data": {
      "text/plain": [
       "0.3489583333333333"
      ]
     },
     "execution_count": 21,
     "metadata": {},
     "output_type": "execute_result"
    }
   ],
   "source": [
    "(data['y']==1).mean()"
   ]
  },
  {
   "cell_type": "markdown",
   "metadata": {},
   "source": [
    "**最优分组(决策树的ID3算法，信息熵)**"
   ]
  },
  {
   "cell_type": "code",
   "execution_count": 22,
   "metadata": {},
   "outputs": [],
   "source": [
    "def cal_entr(data):\n",
    "    p1=np.mean(data['y']==1)\n",
    "    if p1==1 or p1==0:\n",
    "        return 0\n",
    "    else:\n",
    "        return -p1*np.log(p1)-(1-p1)*np.log(1-p1)"
   ]
  },
  {
   "cell_type": "code",
   "execution_count": 23,
   "metadata": {},
   "outputs": [
    {
     "data": {
      "text/plain": [
       "array([ 0,  1,  2,  3,  4,  5,  6,  7,  8,  9, 10, 11, 12, 13, 14, 15])"
      ]
     },
     "execution_count": 23,
     "metadata": {},
     "output_type": "execute_result"
    }
   ],
   "source": [
    "np.sort(data['a'].unique())[:-1]"
   ]
  },
  {
   "cell_type": "code",
   "execution_count": 24,
   "metadata": {},
   "outputs": [
    {
     "data": {
      "text/plain": [
       "array([ 0,  7,  8, 10, 11, 12, 13, 14, 15, 16, 17, 18, 19, 20, 21, 22, 23,\n",
       "       24, 25, 26, 27, 28, 29, 30, 31, 32, 33, 34, 35, 36, 37, 38, 39, 40,\n",
       "       41, 42, 43, 44, 45, 46, 47, 48, 49, 50, 51, 52, 54, 56, 60, 63])"
      ]
     },
     "execution_count": 24,
     "metadata": {},
     "output_type": "execute_result"
    }
   ],
   "source": [
    "np.sort(data['d'].unique())[:-1]"
   ]
  },
  {
   "cell_type": "code",
   "execution_count": 25,
   "metadata": {},
   "outputs": [
    {
     "data": {
      "text/plain": [
       "array([  0,  44,  56,  57,  61,  62,  65,  67,  68,  71,  72,  73,  74,\n",
       "        75,  76,  77,  78,  79,  80,  81,  82,  83,  84,  85,  86,  87,\n",
       "        88,  89,  90,  91,  92,  93,  94,  95,  96,  97,  98,  99, 100,\n",
       "       101, 102, 103, 104, 105, 106, 107, 108, 109, 110, 111, 112, 113,\n",
       "       114, 115, 116, 117, 118, 119, 120, 121, 122, 123, 124, 125, 126,\n",
       "       127, 128, 129, 130, 131, 132, 133, 134, 135, 136, 137, 138, 139,\n",
       "       140, 141, 142, 143, 144, 145, 146, 147, 148, 149, 150, 151, 152,\n",
       "       153, 154, 155, 156, 157, 158, 159, 160, 161, 162, 163, 164, 165,\n",
       "       166, 167, 168, 169, 170, 171, 172, 173, 174, 175, 176, 177, 178,\n",
       "       179, 180, 181, 182, 183, 184, 186, 187, 188, 189, 190, 191, 193,\n",
       "       194, 195, 196, 197, 198])"
      ]
     },
     "execution_count": 25,
     "metadata": {},
     "output_type": "execute_result"
    }
   ],
   "source": [
    "np.sort(data['b'].unique())[:-1]"
   ]
  },
  {
   "cell_type": "code",
   "execution_count": 26,
   "metadata": {},
   "outputs": [],
   "source": [
    "def get_cut_not_null(data, col):\n",
    "    max_info_gain=0.001\n",
    "    cut_point='无最佳切分点'\n",
    "    for i in np.sort(data[col].unique())[:-1]:\n",
    "        data_01=data[data[col]<i]\n",
    "        data_02=data[data[col]>=i]\n",
    "        data_01_p=len(data_01)/len(data)\n",
    "        data_02_p=len(data_02)/len(data)\n",
    "        info_gain=cal_entr(data)-data_01_p*cal_entr(data_01)-data_02_p*cal_entr(data_02)\n",
    "\n",
    "        if info_gain>max_info_gain:\n",
    "            max_info_gain=info_gain\n",
    "            cut_point=i\n",
    "    return cut_point, max_info_gain"
   ]
  },
  {
   "cell_type": "markdown",
   "metadata": {},
   "source": [
    "**对某一列进行连续的切分**"
   ]
  },
  {
   "cell_type": "code",
   "execution_count": 27,
   "metadata": {},
   "outputs": [],
   "source": [
    "deep=2"
   ]
  },
  {
   "cell_type": "code",
   "execution_count": 28,
   "metadata": {},
   "outputs": [],
   "source": [
    "# 切分的深度以及切分后的信息增益是否能大于最小值0.001\n",
    "cut_list=[]"
   ]
  },
  {
   "cell_type": "code",
   "execution_count": 29,
   "metadata": {},
   "outputs": [],
   "source": [
    "def get_cut_not_null_all(data, col,deep):\n",
    "    if deep>0:\n",
    "        cut_point, max_info_gain=get_cut_not_null(data,col)\n",
    "#         print('cut_point', cut_point)\n",
    "        cut_list.append([col, cut_point])\n",
    "        if cut_point != '无最佳切分点':\n",
    "            data_01=data[data[col]>cut_point]\n",
    "            data_02=data[data[col]<=cut_point]\n",
    "            deep-=1\n",
    "            if len(data_01)>2:\n",
    "                get_cut_not_null_all(data_01, col,deep)\n",
    "            if len(data_02)>2:\n",
    "                get_cut_not_null_all(data_02, col,deep)\n",
    "    \n",
    "    "
   ]
  },
  {
   "cell_type": "code",
   "execution_count": 30,
   "metadata": {},
   "outputs": [],
   "source": [
    "get_cut_not_null_all(data,'c',2)"
   ]
  },
  {
   "cell_type": "code",
   "execution_count": 31,
   "metadata": {},
   "outputs": [],
   "source": [
    "get_cut_not_null_all(data,'d',2)"
   ]
  },
  {
   "cell_type": "code",
   "execution_count": 32,
   "metadata": {},
   "outputs": [],
   "source": [
    "get_cut_not_null_all(data,'b',3)"
   ]
  },
  {
   "cell_type": "markdown",
   "metadata": {},
   "source": [
    "**改变展示样式**"
   ]
  },
  {
   "cell_type": "code",
   "execution_count": 33,
   "metadata": {},
   "outputs": [],
   "source": [
    "def cal_entr(data):\n",
    "    p1=np.mean(data['y']==1)\n",
    "    if p1==1 or p1==0:\n",
    "        return 0\n",
    "    else:\n",
    "        return -p1*np.log(p1)-(1-p1)*np.log(1-p1)"
   ]
  },
  {
   "cell_type": "code",
   "execution_count": 34,
   "metadata": {},
   "outputs": [],
   "source": [
    "def get_cut_not_null(data, col):\n",
    "    max_info_gain=0.001\n",
    "    cut_point='无最佳切分点'\n",
    "    for i in np.sort(data[col].unique())[:-1]:\n",
    "        data_01=data[data[col]<i]\n",
    "        data_02=data[data[col]>=i]\n",
    "        data_01_p=len(data_01)/len(data)\n",
    "        data_02_p=len(data_02)/len(data)\n",
    "        info_gain=cal_entr(data)-data_01_p*cal_entr(data_01)-data_02_p*cal_entr(data_02)\n",
    "\n",
    "        if info_gain>max_info_gain:\n",
    "            max_info_gain=info_gain\n",
    "            cut_point=i\n",
    "    return cut_point, max_info_gain"
   ]
  },
  {
   "cell_type": "code",
   "execution_count": 35,
   "metadata": {},
   "outputs": [],
   "source": [
    "def get_cut_not_null_all(data, col,deep):\n",
    "    if deep>0:\n",
    "        cut_point, max_info_gain=get_cut_not_null(data,col)\n",
    "#         print('cut_point', cut_point)\n",
    "        cut_list.append([col, cut_point])\n",
    "        if cut_point != '无最佳切分点':\n",
    "            data_01=data[data[col]>cut_point]\n",
    "            data_02=data[data[col]<=cut_point]\n",
    "            deep-=1\n",
    "            if len(data_01)>2:\n",
    "                get_cut_not_null_all(data_01, col,deep)\n",
    "            if len(data_02)>2:\n",
    "                get_cut_not_null_all(data_02, col,deep)\n",
    "    \n",
    "    "
   ]
  },
  {
   "cell_type": "code",
   "execution_count": null,
   "metadata": {},
   "outputs": [],
   "source": []
  },
  {
   "cell_type": "code",
   "execution_count": 36,
   "metadata": {},
   "outputs": [],
   "source": [
    "def transform_cut_point(cut_list):\n",
    "    cut_list=[[i ,j] for i, j in pd.DataFrame(cut_list,columns=['col', 'cut_point']).sort_values(by=['col', 'cut_point']).values]\n",
    "    for col in pd.DataFrame(cut_list, columns=['col', 'cut_point'])['col'].unique():\n",
    "        col_cut_list=[]\n",
    "        for i, cut_point in cut_list:\n",
    "            if i == col:\n",
    "                col_cut_list.append(cut_point)\n",
    "        col_cut_result.append([col,col_cut_list])\n",
    "    return col_cut_result"
   ]
  },
  {
   "cell_type": "markdown",
   "metadata": {},
   "source": [
    "![](https://tva1.sinaimg.cn/large/0082zybpgy1gcb0rpo8jpj315u0nmq6m.jpg)"
   ]
  },
  {
   "cell_type": "markdown",
   "metadata": {},
   "source": [
    "**对多列进行找出深度为2的最佳的切分点**"
   ]
  },
  {
   "cell_type": "code",
   "execution_count": 37,
   "metadata": {},
   "outputs": [],
   "source": [
    "# 切分多个连续变量\n",
    "def get_all_col_cut_points(data):\n",
    "    for col in data.columns:\n",
    "        if col != 'y':\n",
    "            data_input=data[[col,'y']]\n",
    "            data_not_null=data_input.dropna(subset=[col])\n",
    "            if data_input[col].isnull().sum()>0:\n",
    "                cut_list.append([col,'null'])\n",
    "                get_cut_not_null_all(data_input, col, 3)\n",
    "            else: \n",
    "                get_cut_not_null_all(data_input, col, 3)\n",
    "    transform_cut_point(cut_list)\n",
    "    logging.info('连续变量切分完成')"
   ]
  },
  {
   "cell_type": "markdown",
   "metadata": {},
   "source": [
    "步骤：  \n",
    "1. 初始化空的cut_list和空的col_cut_result\n",
    "2. 运行`get_all_col_cut_points`函数，生成对应的`col_cut_result`\n",
    "\n",
    "**计算iv值**  \n",
    "`get_col_cut`函数进行连续值变量的离散化"
   ]
  },
  {
   "cell_type": "code",
   "execution_count": null,
   "metadata": {},
   "outputs": [],
   "source": []
  },
  {
   "cell_type": "code",
   "execution_count": 38,
   "metadata": {},
   "outputs": [],
   "source": [
    "cut_list=[]\n",
    "\n",
    "col_cut_result=[]"
   ]
  },
  {
   "cell_type": "code",
   "execution_count": 39,
   "metadata": {},
   "outputs": [],
   "source": [
    "get_all_col_cut_points(data)"
   ]
  },
  {
   "cell_type": "code",
   "execution_count": 40,
   "metadata": {},
   "outputs": [
    {
     "data": {
      "text/plain": [
       "[['a', [1, 3, 6, 7, 10, 14]],\n",
       " ['b', [44, 100, 124, 128, 144, 155, 167]],\n",
       " ['c', [38, 44, 62, 70, 76, 82, 102]],\n",
       " ['d', [8, 24, 32, 50, 63, '无最佳切分点']],\n",
       " ['e', [15, 88, 122, 144, 465, 680, '无最佳切分点']],\n",
       " ['f', [22.9, 26.4, 27.7, 27.9, 29.9, 40.9, 48.3]],\n",
       " ['g',\n",
       "  [0.121,\n",
       "   0.209,\n",
       "   0.27899999999999997,\n",
       "   0.528,\n",
       "   0.537,\n",
       "   0.545,\n",
       "   0.7190000000000001]],\n",
       " ['h', [22, 25, 28, 29, 31, 63, 66]]]"
      ]
     },
     "execution_count": 40,
     "metadata": {},
     "output_type": "execute_result"
    }
   ],
   "source": [
    "col_cut_result"
   ]
  },
  {
   "cell_type": "code",
   "execution_count": 35,
   "metadata": {},
   "outputs": [],
   "source": [
    "# 计算没有离散的连续型变量的iv值\n",
    "iv_list=[]\n",
    "def cal_no_cat_iv(data):\n",
    "    logging.info('计算没有离散化的连续型变量的iv值')\n",
    "    for col in data.columns:\n",
    "        if col != 'y':\n",
    "            iv=0\n",
    "            for i in data[col].unique():\n",
    "            #     计算好和坏在这个数值下的比例，然后计算iv值\n",
    "                p1=len(data[(data[col]==i)&(data['y']==1)])/len(data.query(\"y==1\"))\n",
    "                p0=len(data[(data[col]==i)&(data['y']==0)])/len(data.query(\"y==0\"))\n",
    "\n",
    "            #     计算当下的iv值\n",
    "                if p1==0 or p0==0:\n",
    "                    temp_iv=0\n",
    "                else:\n",
    "                    temp_iv=(p1-p0)*np.log(p1/p0)\n",
    "                iv+=temp_iv\n",
    "            iv_list.append([col, iv])\n",
    "    \n",
    "        "
   ]
  },
  {
   "cell_type": "code",
   "execution_count": 36,
   "metadata": {},
   "outputs": [],
   "source": [
    "cal_no_cat_iv(data)"
   ]
  },
  {
   "cell_type": "code",
   "execution_count": 37,
   "metadata": {},
   "outputs": [
    {
     "data": {
      "text/plain": [
       "[['a', 0.3366750151087556],\n",
       " ['b', 0.6653697725774269],\n",
       " ['c', 0.2556591777504405],\n",
       " ['d', 0.3012125497077953],\n",
       " ['e', 0.14390382626272788],\n",
       " ['f', 0.4411418494328992],\n",
       " ['g', 0.14680328714918905],\n",
       " ['h', 0.8453460212957992]]"
      ]
     },
     "execution_count": 37,
     "metadata": {},
     "output_type": "execute_result"
    }
   ],
   "source": [
    "iv_list"
   ]
  },
  {
   "cell_type": "code",
   "execution_count": 116,
   "metadata": {},
   "outputs": [
    {
     "data": {
      "text/html": [
       "<div>\n",
       "<style scoped>\n",
       "    .dataframe tbody tr th:only-of-type {\n",
       "        vertical-align: middle;\n",
       "    }\n",
       "\n",
       "    .dataframe tbody tr th {\n",
       "        vertical-align: top;\n",
       "    }\n",
       "\n",
       "    .dataframe thead th {\n",
       "        text-align: right;\n",
       "    }\n",
       "</style>\n",
       "<table border=\"1\" class=\"dataframe\">\n",
       "  <thead>\n",
       "    <tr style=\"text-align: right;\">\n",
       "      <th></th>\n",
       "      <th>a</th>\n",
       "      <th>b</th>\n",
       "      <th>c</th>\n",
       "      <th>d</th>\n",
       "      <th>e</th>\n",
       "      <th>f</th>\n",
       "      <th>g</th>\n",
       "      <th>h</th>\n",
       "      <th>y</th>\n",
       "    </tr>\n",
       "  </thead>\n",
       "  <tbody>\n",
       "    <tr>\n",
       "      <th>0</th>\n",
       "      <td>0.026966</td>\n",
       "      <td>0.001000</td>\n",
       "      <td>0.001000</td>\n",
       "      <td>0.001000</td>\n",
       "      <td>0.001000</td>\n",
       "      <td>0.001000</td>\n",
       "      <td>0.001000</td>\n",
       "      <td>0.001000</td>\n",
       "      <td>1.0</td>\n",
       "    </tr>\n",
       "    <tr>\n",
       "      <th>1</th>\n",
       "      <td>0.359072</td>\n",
       "      <td>1.733031</td>\n",
       "      <td>0.086055</td>\n",
       "      <td>0.001000</td>\n",
       "      <td>0.001000</td>\n",
       "      <td>0.387980</td>\n",
       "      <td>0.229611</td>\n",
       "      <td>0.001000</td>\n",
       "      <td>0.0</td>\n",
       "    </tr>\n",
       "    <tr>\n",
       "      <th>2</th>\n",
       "      <td>0.001000</td>\n",
       "      <td>0.001000</td>\n",
       "      <td>0.086055</td>\n",
       "      <td>0.001000</td>\n",
       "      <td>0.001000</td>\n",
       "      <td>1.466183</td>\n",
       "      <td>0.001000</td>\n",
       "      <td>0.001000</td>\n",
       "      <td>1.0</td>\n",
       "    </tr>\n",
       "    <tr>\n",
       "      <th>3</th>\n",
       "      <td>0.359072</td>\n",
       "      <td>1.733031</td>\n",
       "      <td>0.086055</td>\n",
       "      <td>0.907855</td>\n",
       "      <td>0.474991</td>\n",
       "      <td>0.331890</td>\n",
       "      <td>0.594051</td>\n",
       "      <td>1.382914</td>\n",
       "      <td>0.0</td>\n",
       "    </tr>\n",
       "    <tr>\n",
       "      <th>4</th>\n",
       "      <td>0.359072</td>\n",
       "      <td>0.001000</td>\n",
       "      <td>0.762673</td>\n",
       "      <td>0.001000</td>\n",
       "      <td>0.001000</td>\n",
       "      <td>0.001000</td>\n",
       "      <td>0.001000</td>\n",
       "      <td>0.001000</td>\n",
       "      <td>1.0</td>\n",
       "    </tr>\n",
       "  </tbody>\n",
       "</table>\n",
       "</div>"
      ],
      "text/plain": [
       "          a         b         c         d         e         f         g  \\\n",
       "0  0.026966  0.001000  0.001000  0.001000  0.001000  0.001000  0.001000   \n",
       "1  0.359072  1.733031  0.086055  0.001000  0.001000  0.387980  0.229611   \n",
       "2  0.001000  0.001000  0.086055  0.001000  0.001000  1.466183  0.001000   \n",
       "3  0.359072  1.733031  0.086055  0.907855  0.474991  0.331890  0.594051   \n",
       "4  0.359072  0.001000  0.762673  0.001000  0.001000  0.001000  0.001000   \n",
       "\n",
       "          h    y  \n",
       "0  0.001000  1.0  \n",
       "1  0.001000  0.0  \n",
       "2  0.001000  1.0  \n",
       "3  1.382914  0.0  \n",
       "4  0.001000  1.0  "
      ]
     },
     "execution_count": 116,
     "metadata": {},
     "output_type": "execute_result"
    }
   ],
   "source": [
    "data_woe.head()"
   ]
  },
  {
   "cell_type": "code",
   "execution_count": 45,
   "metadata": {},
   "outputs": [],
   "source": [
    "# 对连续型变量进行按照最大熵离散化\n",
    "def get_col_cut(data):\n",
    "    data_cut_result=data.copy()\n",
    "    for col,cut_lists in col_cut_result:\n",
    "        cluster=1\n",
    "        data_col=data[col]\n",
    "        data_cut_result.loc[data_col.notnull(),col]=str(cluster)\n",
    "        \n",
    "        for cut_point in cut_lists:\n",
    "            if cut_point != 'null' and cut_point!='无最佳切分点':\n",
    "                cluster+=1\n",
    "#                 print(data_col.unique())\n",
    "#                 print(data_cut_result.loc[:, col].unique())\n",
    "                data_cut_result.loc[data_col>cut_point, col]=str(cluster)\n",
    "    logging.info('根据cut的切分离散型变量完成')\n",
    "    return data_cut_result"
   ]
  },
  {
   "cell_type": "code",
   "execution_count": 70,
   "metadata": {},
   "outputs": [],
   "source": [
    "# 对离散化后的数据表进行计算iv值\n",
    "iv_cat_list=[]\n",
    "def cal_cat_iv(data):\n",
    "    logging.info('计算离散化的连续型变量的iv值')\n",
    "    for col in data.columns:\n",
    "        if col != 'y':\n",
    "            iv=0\n",
    "            for i in data[col].unique():\n",
    "            #     计算好和坏在这个数值下的比例，然后计算iv值\n",
    "                p1=len(data[(data[col]==i)&(data['y']==1)])/len(data.query(\"y==1\"))\n",
    "                p0=len(data[(data[col]==i)&(data['y']==0)])/len(data.query(\"y==0\"))\n",
    "\n",
    "            #     计算当下的iv值\n",
    "                if p1==0 or p0==0:\n",
    "                    temp_iv=0\n",
    "                else:\n",
    "                    temp_iv=(p1-p0)*np.log(p1/p0)\n",
    "                iv+=temp_iv\n",
    "            iv_cat_list.append([col, iv])\n",
    "    "
   ]
  },
  {
   "cell_type": "code",
   "execution_count": 71,
   "metadata": {},
   "outputs": [
    {
     "data": {
      "text/plain": [
       "[]"
      ]
     },
     "execution_count": 71,
     "metadata": {},
     "output_type": "execute_result"
    }
   ],
   "source": [
    "iv_cat_list"
   ]
  },
  {
   "cell_type": "code",
   "execution_count": 47,
   "metadata": {},
   "outputs": [],
   "source": [
    "data_cut_result=get_col_cut(data)"
   ]
  },
  {
   "cell_type": "code",
   "execution_count": 48,
   "metadata": {},
   "outputs": [
    {
     "data": {
      "text/html": [
       "<div>\n",
       "<style scoped>\n",
       "    .dataframe tbody tr th:only-of-type {\n",
       "        vertical-align: middle;\n",
       "    }\n",
       "\n",
       "    .dataframe tbody tr th {\n",
       "        vertical-align: top;\n",
       "    }\n",
       "\n",
       "    .dataframe thead th {\n",
       "        text-align: right;\n",
       "    }\n",
       "</style>\n",
       "<table border=\"1\" class=\"dataframe\">\n",
       "  <thead>\n",
       "    <tr style=\"text-align: right;\">\n",
       "      <th></th>\n",
       "      <th>a</th>\n",
       "      <th>b</th>\n",
       "      <th>c</th>\n",
       "      <th>d</th>\n",
       "      <th>e</th>\n",
       "      <th>f</th>\n",
       "      <th>g</th>\n",
       "      <th>h</th>\n",
       "      <th>y</th>\n",
       "    </tr>\n",
       "  </thead>\n",
       "  <tbody>\n",
       "    <tr>\n",
       "      <th>0</th>\n",
       "      <td>3</td>\n",
       "      <td>6</td>\n",
       "      <td>5</td>\n",
       "      <td>4</td>\n",
       "      <td>1</td>\n",
       "      <td>6</td>\n",
       "      <td>7</td>\n",
       "      <td>6</td>\n",
       "      <td>1</td>\n",
       "    </tr>\n",
       "    <tr>\n",
       "      <th>1</th>\n",
       "      <td>1</td>\n",
       "      <td>2</td>\n",
       "      <td>4</td>\n",
       "      <td>3</td>\n",
       "      <td>1</td>\n",
       "      <td>3</td>\n",
       "      <td>4</td>\n",
       "      <td>5</td>\n",
       "      <td>0</td>\n",
       "    </tr>\n",
       "    <tr>\n",
       "      <th>2</th>\n",
       "      <td>5</td>\n",
       "      <td>8</td>\n",
       "      <td>4</td>\n",
       "      <td>1</td>\n",
       "      <td>1</td>\n",
       "      <td>2</td>\n",
       "      <td>7</td>\n",
       "      <td>6</td>\n",
       "      <td>1</td>\n",
       "    </tr>\n",
       "    <tr>\n",
       "      <th>3</th>\n",
       "      <td>1</td>\n",
       "      <td>2</td>\n",
       "      <td>4</td>\n",
       "      <td>2</td>\n",
       "      <td>3</td>\n",
       "      <td>5</td>\n",
       "      <td>2</td>\n",
       "      <td>1</td>\n",
       "      <td>0</td>\n",
       "    </tr>\n",
       "    <tr>\n",
       "      <th>4</th>\n",
       "      <td>1</td>\n",
       "      <td>5</td>\n",
       "      <td>2</td>\n",
       "      <td>4</td>\n",
       "      <td>5</td>\n",
       "      <td>7</td>\n",
       "      <td>8</td>\n",
       "      <td>6</td>\n",
       "      <td>1</td>\n",
       "    </tr>\n",
       "  </tbody>\n",
       "</table>\n",
       "</div>"
      ],
      "text/plain": [
       "   a  b  c  d  e  f  g  h  y\n",
       "0  3  6  5  4  1  6  7  6  1\n",
       "1  1  2  4  3  1  3  4  5  0\n",
       "2  5  8  4  1  1  2  7  6  1\n",
       "3  1  2  4  2  3  5  2  1  0\n",
       "4  1  5  2  4  5  7  8  6  1"
      ]
     },
     "execution_count": 48,
     "metadata": {},
     "output_type": "execute_result"
    }
   ],
   "source": [
    "data_cut_result.head()"
   ]
  },
  {
   "cell_type": "code",
   "execution_count": 62,
   "metadata": {},
   "outputs": [],
   "source": [
    "cal_cat_iv(data_cut_result)"
   ]
  },
  {
   "cell_type": "code",
   "execution_count": 63,
   "metadata": {},
   "outputs": [
    {
     "data": {
      "text/plain": [
       "[['a', 0.24833074731622543],\n",
       " ['b', 1.3106085245396435],\n",
       " ['c', 0.15441258147177947],\n",
       " ['d', 0.22976764625725504],\n",
       " ['e', 0.4827179564264267],\n",
       " ['f', 0.7181311999109694],\n",
       " ['g', 0.2486377881352132],\n",
       " ['h', 0.5623048207267936]]"
      ]
     },
     "execution_count": 63,
     "metadata": {},
     "output_type": "execute_result"
    }
   ],
   "source": [
    "iv_cat_list"
   ]
  },
  {
   "cell_type": "code",
   "execution_count": null,
   "metadata": {},
   "outputs": [],
   "source": []
  },
  {
   "cell_type": "code",
   "execution_count": 69,
   "metadata": {},
   "outputs": [
    {
     "data": {
      "text/html": [
       "<div>\n",
       "<style scoped>\n",
       "    .dataframe tbody tr th:only-of-type {\n",
       "        vertical-align: middle;\n",
       "    }\n",
       "\n",
       "    .dataframe tbody tr th {\n",
       "        vertical-align: top;\n",
       "    }\n",
       "\n",
       "    .dataframe thead th {\n",
       "        text-align: right;\n",
       "    }\n",
       "</style>\n",
       "<table border=\"1\" class=\"dataframe\">\n",
       "  <thead>\n",
       "    <tr style=\"text-align: right;\">\n",
       "      <th></th>\n",
       "      <th>col</th>\n",
       "      <th>iv_value</th>\n",
       "    </tr>\n",
       "  </thead>\n",
       "  <tbody>\n",
       "  </tbody>\n",
       "</table>\n",
       "</div>"
      ],
      "text/plain": [
       "Empty DataFrame\n",
       "Columns: [col, iv_value]\n",
       "Index: []"
      ]
     },
     "execution_count": 69,
     "metadata": {},
     "output_type": "execute_result"
    }
   ],
   "source": [
    "pd.DataFrame(iv_cat_list,columns=['col', 'iv_value'])"
   ]
  },
  {
   "cell_type": "markdown",
   "metadata": {},
   "source": [
    "**将离散化以后的变量进行WOE化**"
   ]
  },
  {
   "cell_type": "code",
   "execution_count": 41,
   "metadata": {},
   "outputs": [],
   "source": [
    "# 根据离散化后的数据表进行woe化\n",
    "def get_woe(data_cut_result):\n",
    "    logging.info('数据woe化进行中。。。。。')\n",
    "    data_woe=data_cut_result.copy()\n",
    "\n",
    "    for col in data_cut_result.columns[data.columns != 'y']:\n",
    "        data_col=data_cut_result[[col,'y']]\n",
    "        total_0=len(data_col[(data_col['y'].notnull())&(data_col['y']==0)])\n",
    "        total_1=len(data_col[(data_col['y'].notnull())&(data_col['y']==1)])\n",
    "\n",
    "\n",
    "        for cluster in data_col[col].unique():\n",
    "            cluster_0=len(data_col[(data_col[col]==cluster)&(data_col['y']==0)])\n",
    "            cluster_1=len(data_col[(data_col[col]==cluster)&(data_col['y']==1)])\n",
    "            p0=cluster_0/total_0\n",
    "            p1=cluster_1/total_1\n",
    "\n",
    "            woe_cluster=np.log(p0/p1)\n",
    "\n",
    "            data_woe.loc[data_col[col]==cluster, col]=woe_cluster\n",
    "    logging.info('数据woe化转换完成')\n",
    "    return data_woe"
   ]
  },
  {
   "cell_type": "code",
   "execution_count": 49,
   "metadata": {},
   "outputs": [],
   "source": [
    "data_woe=get_woe(data_cut_result)"
   ]
  },
  {
   "cell_type": "code",
   "execution_count": 51,
   "metadata": {},
   "outputs": [
    {
     "data": {
      "text/html": [
       "<div>\n",
       "<style scoped>\n",
       "    .dataframe tbody tr th:only-of-type {\n",
       "        vertical-align: middle;\n",
       "    }\n",
       "\n",
       "    .dataframe tbody tr th {\n",
       "        vertical-align: top;\n",
       "    }\n",
       "\n",
       "    .dataframe thead th {\n",
       "        text-align: right;\n",
       "    }\n",
       "</style>\n",
       "<table border=\"1\" class=\"dataframe\">\n",
       "  <thead>\n",
       "    <tr style=\"text-align: right;\">\n",
       "      <th></th>\n",
       "      <th>a</th>\n",
       "      <th>b</th>\n",
       "      <th>c</th>\n",
       "      <th>d</th>\n",
       "      <th>e</th>\n",
       "      <th>f</th>\n",
       "      <th>g</th>\n",
       "      <th>h</th>\n",
       "      <th>y</th>\n",
       "    </tr>\n",
       "  </thead>\n",
       "  <tbody>\n",
       "    <tr>\n",
       "      <th>0</th>\n",
       "      <td>0.0269664</td>\n",
       "      <td>-0.777772</td>\n",
       "      <td>-0.0640053</td>\n",
       "      <td>-0.500561</td>\n",
       "      <td>-0.0900349</td>\n",
       "      <td>-0.349422</td>\n",
       "      <td>-0.0640053</td>\n",
       "      <td>-0.701079</td>\n",
       "      <td>1</td>\n",
       "    </tr>\n",
       "    <tr>\n",
       "      <th>1</th>\n",
       "      <td>0.359072</td>\n",
       "      <td>1.73303</td>\n",
       "      <td>0.0860554</td>\n",
       "      <td>-0.000678196</td>\n",
       "      <td>-0.0900349</td>\n",
       "      <td>0.38798</td>\n",
       "      <td>0.229611</td>\n",
       "      <td>-0.309964</td>\n",
       "      <td>0</td>\n",
       "    </tr>\n",
       "    <tr>\n",
       "      <th>2</th>\n",
       "      <td>-0.846765</td>\n",
       "      <td>-2.40011</td>\n",
       "      <td>0.0860554</td>\n",
       "      <td>-0.15643</td>\n",
       "      <td>-0.0900349</td>\n",
       "      <td>1.46618</td>\n",
       "      <td>-0.0640053</td>\n",
       "      <td>-0.701079</td>\n",
       "      <td>1</td>\n",
       "    </tr>\n",
       "    <tr>\n",
       "      <th>3</th>\n",
       "      <td>0.359072</td>\n",
       "      <td>1.73303</td>\n",
       "      <td>0.0860554</td>\n",
       "      <td>0.907855</td>\n",
       "      <td>0.474991</td>\n",
       "      <td>0.33189</td>\n",
       "      <td>0.594051</td>\n",
       "      <td>1.38291</td>\n",
       "      <td>0</td>\n",
       "    </tr>\n",
       "    <tr>\n",
       "      <th>4</th>\n",
       "      <td>0.359072</td>\n",
       "      <td>-0.409211</td>\n",
       "      <td>0.762673</td>\n",
       "      <td>-0.500561</td>\n",
       "      <td>-0.637414</td>\n",
       "      <td>-0.911303</td>\n",
       "      <td>-0.697729</td>\n",
       "      <td>-0.701079</td>\n",
       "      <td>1</td>\n",
       "    </tr>\n",
       "  </tbody>\n",
       "</table>\n",
       "</div>"
      ],
      "text/plain": [
       "           a         b          c            d          e         f  \\\n",
       "0  0.0269664 -0.777772 -0.0640053    -0.500561 -0.0900349 -0.349422   \n",
       "1   0.359072   1.73303  0.0860554 -0.000678196 -0.0900349   0.38798   \n",
       "2  -0.846765  -2.40011  0.0860554     -0.15643 -0.0900349   1.46618   \n",
       "3   0.359072   1.73303  0.0860554     0.907855   0.474991   0.33189   \n",
       "4   0.359072 -0.409211   0.762673    -0.500561  -0.637414 -0.911303   \n",
       "\n",
       "           g         h  y  \n",
       "0 -0.0640053 -0.701079  1  \n",
       "1   0.229611 -0.309964  0  \n",
       "2 -0.0640053 -0.701079  1  \n",
       "3   0.594051   1.38291  0  \n",
       "4  -0.697729 -0.701079  1  "
      ]
     },
     "execution_count": 51,
     "metadata": {},
     "output_type": "execute_result"
    }
   ],
   "source": [
    "data_woe.head()"
   ]
  },
  {
   "cell_type": "code",
   "execution_count": 58,
   "metadata": {},
   "outputs": [
    {
     "data": {
      "text/html": [
       "<div>\n",
       "<style scoped>\n",
       "    .dataframe tbody tr th:only-of-type {\n",
       "        vertical-align: middle;\n",
       "    }\n",
       "\n",
       "    .dataframe tbody tr th {\n",
       "        vertical-align: top;\n",
       "    }\n",
       "\n",
       "    .dataframe thead th {\n",
       "        text-align: right;\n",
       "    }\n",
       "</style>\n",
       "<table border=\"1\" class=\"dataframe\">\n",
       "  <thead>\n",
       "    <tr style=\"text-align: right;\">\n",
       "      <th></th>\n",
       "      <th>a</th>\n",
       "      <th>b</th>\n",
       "    </tr>\n",
       "  </thead>\n",
       "  <tbody>\n",
       "    <tr>\n",
       "      <th>a</th>\n",
       "      <td>1.000000</td>\n",
       "      <td>0.159946</td>\n",
       "    </tr>\n",
       "    <tr>\n",
       "      <th>b</th>\n",
       "      <td>0.159946</td>\n",
       "      <td>1.000000</td>\n",
       "    </tr>\n",
       "  </tbody>\n",
       "</table>\n",
       "</div>"
      ],
      "text/plain": [
       "          a         b\n",
       "a  1.000000  0.159946\n",
       "b  0.159946  1.000000"
      ]
     },
     "execution_count": 58,
     "metadata": {},
     "output_type": "execute_result"
    }
   ],
   "source": [
    "data_woe[['a', 'b']].astype(float).corr()"
   ]
  },
  {
   "cell_type": "code",
   "execution_count": 101,
   "metadata": {},
   "outputs": [],
   "source": [
    "# 剔除掉iv值小于0.1，相关性>0.8的变量（默认参数剔除iv值<0.1，相关系数>0.8的变量）\n",
    "def get_iv_corr_col(data_woe, min_iv=0.1, max_corr=0.8):\n",
    "    logging.info('根据IV值大于%s，相关系数小于%s选取变量'%(min_iv, max_corr))\n",
    "#    选取高于0.1的iv值变量\n",
    "    iv_df=pd.DataFrame(iv_cat_list,columns=['col', 'iv_value'])\n",
    "#     筛选出iv值高于0.1的列名\n",
    "    iv_cols=iv_df.query(\"iv_value>=0.1\")['col'].tolist()\n",
    "    \n",
    "#     计算woe化以后各列的相关性矩阵\n",
    "    data_woe_corr=data_woe[iv_cols].astype(float).corr()\n",
    "    \n",
    "    \n",
    "    del_cols=[]\n",
    "# 遍历行，找到相关系数大于0.8的数据，排除掉相同的变量名(其相关系数为1)，找到iv值较大的一个\n",
    "    for col_1 in data_woe_corr.columns:\n",
    "        for col_2 in data_woe_corr[data_woe_corr[col_1]>max_corr].index:\n",
    "            if col_1 != col_2:\n",
    "                iv_1=iv_df[iv_df['col']==col_1]['iv_value'].values\n",
    "                iv_2=iv_df[iv_df['col']==col_2]['iv_value'].values\n",
    "                if iv_1>iv_2:\n",
    "                    del_cols.append(col_2)\n",
    "                    \n",
    "                    \n",
    "    col_result=[col for col in iv_cols if col not in del_cols]\n",
    "    logging.info(\"总共%s个变量，最终筛选出%s个变量\"%(len(iv_df), len(col_result)))\n",
    "    return col_result"
   ]
  },
  {
   "cell_type": "code",
   "execution_count": 102,
   "metadata": {},
   "outputs": [],
   "source": [
    "iv_cat_list=[['a', 0.24833074731622543],\n",
    " ['b', 1.3106085245396435],\n",
    " ['c', 0.15441258147177947],\n",
    " ['d', 0.22976764625725504],\n",
    " ['e', 0.4827179564264267],\n",
    " ['f', 0.7181311999109694],\n",
    " ['g', 0.2486377881352132],\n",
    " ['h', 0.5623048207267936]]"
   ]
  },
  {
   "cell_type": "code",
   "execution_count": 103,
   "metadata": {},
   "outputs": [],
   "source": [
    "col_result_tmp=get_iv_corr_col(data_woe)"
   ]
  },
  {
   "cell_type": "code",
   "execution_count": 114,
   "metadata": {},
   "outputs": [],
   "source": [
    "# 通过iv值和相关性以及逻辑回归L1选择变量(默认参数剔除iv值<0.1，相关系数>0.8的变量，模型L1正则化选择变量)\n",
    "def get_iv_corr_l1_col(data_woe, min_iv=0.1, max_corr=0.8):\n",
    "    logging.info('根据IV值大于%s，相关系数小于%s选取变量'%(min_iv, max_corr))\n",
    "#    选取高于0.1的iv值变量\n",
    "    iv_df=pd.DataFrame(iv_cat_list,columns=['col', 'iv_value'])\n",
    "#     筛选出iv值高于0.1的列名\n",
    "    iv_cols=iv_df.query(\"iv_value>=0.1\")['col'].tolist()\n",
    "    \n",
    "#     计算woe化以后各列的相关性矩阵\n",
    "    data_woe_corr=data_woe[iv_cols].astype(float).corr()\n",
    "    \n",
    "    \n",
    "    del_cols=[]\n",
    "# 遍历行，找到相关系数大于0.8的数据，排除掉相同的变量名(其相关系数为1)，找到iv值较大的一个\n",
    "    for col_1 in data_woe_corr.columns:\n",
    "        for col_2 in data_woe_corr[data_woe_corr[col_1]>max_corr].index:\n",
    "            if col_1 != col_2:\n",
    "                iv_1=iv_df[iv_df['col']==col_1]['iv_value'].values\n",
    "                iv_2=iv_df[iv_df['col']==col_2]['iv_value'].values\n",
    "                if iv_1>iv_2:\n",
    "                    del_cols.append(col_2)\n",
    "                    \n",
    "                    \n",
    "    col_result=[col for col in iv_cols if col not in del_cols]\n",
    "    \n",
    "#     通过l1正则化筛选变量\n",
    "    lr=LogisticRegression(penalty='l1',C=1.0)\n",
    "    lr.fit(data_woe[col_result].astype(float),data_woe['y'])\n",
    "    \n",
    "    col_result=[col_result[i] for i in range(len(col_result)) if lr.coef_[0][i] !=0 ]\n",
    "    \n",
    "    \n",
    "    \n",
    "    \n",
    "    logging.info(\"总共%s个变量，最终筛选出%s个变量\"%(len(iv_df), len(col_result)))\n",
    "    \n",
    "    return col_result"
   ]
  },
  {
   "cell_type": "code",
   "execution_count": 115,
   "metadata": {},
   "outputs": [
    {
     "data": {
      "text/plain": [
       "['b', 'd', 'e', 'f', 'g', 'h']"
      ]
     },
     "execution_count": 115,
     "metadata": {},
     "output_type": "execute_result"
    }
   ],
   "source": [
    "get_iv_corr_l1_col(data_woe)"
   ]
  },
  {
   "cell_type": "code",
   "execution_count": 31,
   "metadata": {},
   "outputs": [],
   "source": [
    "from sklearn.metrics import roc_curve, roc_auc_score\n",
    "\n",
    "fpr, tpr,threshold=roc_curve(y_test, y_prob[:,1])"
   ]
  },
  {
   "cell_type": "code",
   "execution_count": 36,
   "metadata": {},
   "outputs": [
    {
     "data": {
      "text/plain": [
       "(80,)"
      ]
     },
     "execution_count": 36,
     "metadata": {},
     "output_type": "execute_result"
    }
   ],
   "source": [
    "fpr.shape"
   ]
  },
  {
   "cell_type": "code",
   "execution_count": 37,
   "metadata": {},
   "outputs": [
    {
     "data": {
      "text/plain": [
       "(80,)"
      ]
     },
     "execution_count": 37,
     "metadata": {},
     "output_type": "execute_result"
    }
   ],
   "source": [
    "tpr.shape"
   ]
  },
  {
   "cell_type": "code",
   "execution_count": 43,
   "metadata": {},
   "outputs": [
    {
     "data": {
      "text/plain": [
       "1.9913567388197877"
      ]
     },
     "execution_count": 43,
     "metadata": {},
     "output_type": "execute_result"
    }
   ],
   "source": [
    "threshold.max()"
   ]
  },
  {
   "cell_type": "code",
   "execution_count": 44,
   "metadata": {},
   "outputs": [
    {
     "data": {
      "text/plain": [
       "8.731072717717671e-05"
      ]
     },
     "execution_count": 44,
     "metadata": {},
     "output_type": "execute_result"
    }
   ],
   "source": [
    "threshold.min()"
   ]
  },
  {
   "cell_type": "code",
   "execution_count": 67,
   "metadata": {},
   "outputs": [],
   "source": [
    "auc_score=round(roc_auc_score(y_test,y_prob[:,1]), 3)"
   ]
  },
  {
   "cell_type": "code",
   "execution_count": 65,
   "metadata": {},
   "outputs": [
    {
     "data": {
      "text/plain": [
       "0.7965432098765431"
      ]
     },
     "execution_count": 65,
     "metadata": {},
     "output_type": "execute_result"
    }
   ],
   "source": [
    "auc_score"
   ]
  },
  {
   "cell_type": "code",
   "execution_count": null,
   "metadata": {},
   "outputs": [],
   "source": [
    "def plot_roc(y_true, y_prob,filename):\n",
    "    "
   ]
  },
  {
   "cell_type": "markdown",
   "metadata": {},
   "source": [
    "### 需要优化调整的地方：\n",
    "- 导入中文的字符\n",
    "- 颜色选好看的颜色\n",
    "- 调整字体大小"
   ]
  },
  {
   "cell_type": "code",
   "execution_count": 78,
   "metadata": {},
   "outputs": [],
   "source": [
    "\n",
    "plt.rcParams['font.sans-serif'] = ['Arial Unicode MS']"
   ]
  },
  {
   "cell_type": "code",
   "execution_count": 78,
   "metadata": {},
   "outputs": [],
   "source": [
    "\n",
    "plt.rcParams['font.sans-serif'] = ['Arial Unicode MS']"
   ]
  },
  {
   "cell_type": "code",
   "execution_count": 84,
   "metadata": {},
   "outputs": [],
   "source": [
    "plt.style.use('ggplot')"
   ]
  },
  {
   "cell_type": "code",
   "execution_count": 105,
   "metadata": {},
   "outputs": [],
   "source": [
    "params={\n",
    "        'font.weight':'normal' #or 'blod'\n",
    "        }\n",
    "plt.rcParams.update(params)"
   ]
  },
  {
   "cell_type": "code",
   "execution_count": 142,
   "metadata": {},
   "outputs": [
    {
     "data": {
      "text/plain": [
       "<matplotlib.legend.Legend at 0x1a27f7cc18>"
      ]
     },
     "execution_count": 142,
     "metadata": {},
     "output_type": "execute_result"
    },
    {
     "data": {
      "image/png": "[encoded data removed]",
      "text/plain": [
       "<Figure size 576x288 with 1 Axes>"
      ]
     },
     "metadata": {},
     "output_type": "display_data"
    }
   ],
   "source": [
    "from matplotlib.font_manager import FontProperties\n",
    "font=FontProperties(fname='/System/Library/Fonts/STHeiti Medium.ttc',size=10)\n",
    "\n",
    "\n",
    "plt.rcParams['font.family']=['sans-serif']\n",
    "# plt.rcParams['font.weight']=['blod']\n",
    "plt.figure(figsize=(8,4))\n",
    "plt.plot(fpr, tpr,label='ROC')\n",
    "\n",
    "plt.xlabel('FPR',fontsize=15)\n",
    "plt.ylabel('Recall',fontsize=15)\n",
    "plt.title('ROC曲线',fontproperties=font,fontsize=20)\n",
    "plt.xticks(fontsize=10)\n",
    "plt.grid(False)\n",
    "plt.fill_between(fpr,tpr,0,color='#AED1E5',alpha=0.25)\n",
    "plt.annotate(s='auc '+str(auc_score),xy=(0.6,0.6),fontsize=20)\n",
    "plt.legend(loc='upper right')"
   ]
  },
  {
   "cell_type": "code",
   "execution_count": null,
   "metadata": {},
   "outputs": [],
   "source": [
    "from sklearn.metrics import roc_curve, roc_auc_score\n",
    "def plot_auc(y_true, y_prob, filename=False):\n",
    "    fpr, tpr,threshold=roc_curve(y_true, y_prob)\n",
    "    \n",
    "    plt.rcParams['font.family']=['sans-serif']\n",
    "    # plt.rcParams['font.weight']=['blod']\n",
    "    plt.figure(figsize=(8,4))\n",
    "    plt.plot(fpr, tpr,label='ROC')\n",
    "\n",
    "    plt.xlabel('FPR',fontsize=15)\n",
    "    plt.ylabel('Recall',fontsize=15)\n",
    "    plt.title('ROC曲线',fontproperties=font,fontsize=20)\n",
    "    plt.xticks(fontsize=10)\n",
    "    plt.grid(False)\n",
    "    plt.fill_between(fpr,tpr,0,color='#AED1E5',alpha=0.25)\n",
    "    plt.annotate(s='auc '+str(auc_score),xy=(0.6,0.6),fontsize=20)\n",
    "    plt.legend(loc='upper right')\n",
    "    \n",
    "    if filename:\n",
    "        plt.savefig(filename)"
   ]
  },
  {
   "cell_type": "code",
   "execution_count": 108,
   "metadata": {},
   "outputs": [
    {
     "data": {
      "image/png": "[encoded data removed]",
      "text/plain": [
       "<Figure size 432x72 with 1 Axes>"
      ]
     },
     "metadata": {},
     "output_type": "display_data"
    }
   ],
   "source": [
    "sns.palplot(sns.light_palette(\"green\"))"
   ]
  },
  {
   "cell_type": "code",
   "execution_count": 110,
   "metadata": {},
   "outputs": [
    {
     "data": {
      "image/png": "[encoded data removed]",
      "text/plain": [
       "<Figure size 432x72 with 1 Axes>"
      ]
     },
     "metadata": {},
     "output_type": "display_data"
    }
   ],
   "source": [
    "sns.palplot(sns.color_palette(\"Blues\"))"
   ]
  },
  {
   "cell_type": "code",
   "execution_count": 111,
   "metadata": {},
   "outputs": [
    {
     "data": {
      "image/png": "[encoded data removed]",
      "text/plain": [
       "<Figure size 432x72 with 1 Axes>"
      ]
     },
     "metadata": {},
     "output_type": "display_data"
    }
   ],
   "source": [
    "sns.palplot(sns.color_palette(\"BuGn_r\"))"
   ]
  },
  {
   "cell_type": "code",
   "execution_count": 133,
   "metadata": {},
   "outputs": [
    {
     "data": {
      "image/png": "[encoded data removed]",
      "text/plain": [
       "<Figure size 504x72 with 1 Axes>"
      ]
     },
     "metadata": {},
     "output_type": "display_data"
    }
   ],
   "source": [
    "sns.palplot(sns.color_palette())"
   ]
  },
  {
   "cell_type": "code",
   "execution_count": 132,
   "metadata": {},
   "outputs": [
    {
     "data": {
      "image/png": "[encoded data removed]",
      "text/plain": [
       "<Figure size 432x72 with 1 Axes>"
      ]
     },
     "metadata": {},
     "output_type": "display_data"
    }
   ],
   "source": [
    "sns.palplot(sns.light_palette(\"navy\"))"
   ]
  },
  {
   "cell_type": "code",
   "execution_count": 134,
   "metadata": {},
   "outputs": [
    {
     "data": {
      "image/png": "[encoded data removed]",
      "text/plain": [
       "<Figure size 576x72 with 1 Axes>"
      ]
     },
     "metadata": {},
     "output_type": "display_data"
    }
   ],
   "source": [
    "sns.palplot(sns.cubehelix_palette(8,start=.5,rot=-.75))\n",
    "plt.show()"
   ]
  },
  {
   "cell_type": "code",
   "execution_count": 135,
   "metadata": {},
   "outputs": [
    {
     "data": {
      "image/png": "[encoded data removed]",
      "text/plain": [
       "<Figure size 576x72 with 1 Axes>"
      ]
     },
     "metadata": {},
     "output_type": "display_data"
    }
   ],
   "source": [
    "sns.palplot(sns.cubehelix_palette(8,start=.75,rot=-.150))\n",
    "plt.show()"
   ]
  },
  {
   "cell_type": "code",
   "execution_count": null,
   "metadata": {},
   "outputs": [],
   "source": []
  },
  {
   "cell_type": "code",
   "execution_count": null,
   "metadata": {},
   "outputs": [],
   "source": []
  },
  {
   "cell_type": "code",
   "execution_count": 180,
   "metadata": {},
   "outputs": [],
   "source": [
    "def plot_ks(y_true, y_prob, thresholds_num=1000, filename=False):\n",
    "    \n",
    "    thresholds = np.linspace(np.min(y_prob), np.max(y_prob), thresholds_num)\n",
    "    def tpr_fpr_delta(threshold):\n",
    "        y_pred = np.array([int(i>threshold) for i in y_prob])\n",
    "        tn, fp, fn, tp = confusion_matrix(y_true, y_pred).ravel()\n",
    "        tpr = tp / (tp+fn)\n",
    "        fpr = fp / (fp+tn)\n",
    "        delta = tpr - fpr\n",
    "        return tpr, fpr, delta\n",
    "\n",
    "    tprs, fprs, deltas = np.vectorize(tpr_fpr_delta)(thresholds)\n",
    "    target_tpr = tprs[np.argmax(deltas)]\n",
    "    target_fpr = fprs[np.argmax(deltas)]\n",
    "    target_threshold = thresholds[np.argmax(deltas)]\n",
    "    ks_value = np.max(deltas)\n",
    " \n",
    "    plt.figure(figsize=(8, 4))\n",
    "    plt.plot(thresholds, tprs, label='TPR', color='r', linestyle='-', linewidth=1.5)    \n",
    "    plt.legend(loc='upper right')\n",
    "    plt.plot(thresholds, fprs, label='FPR', color='k', linestyle='-', linewidth=1.5)\n",
    "    plt.legend(loc='upper right')\n",
    "    plt.xlabel('Threshold', fontsize=10)\n",
    "    plt.ylabel('TPR, FPR', fontsize=10)\n",
    "    plt.annotate('KS Value : {:.3f}'.format(ks_value), xy=(target_threshold+0.01, 0.5*ks_value+0.3))\n",
    "    plt.xticks()\n",
    "    plt.title('KS Value')\n",
    "\n",
    "\n",
    "    # Ҫ���ӵ������������\n",
    "    x = [[target_threshold, target_threshold]] \n",
    "    y = [[target_fpr, target_tpr]]\n",
    "\n",
    "    for i in range(len(x)):\n",
    "        plt.plot(x[i], y[i], 'b--', lw=1.5)\n",
    "        plt.scatter(x[i], y[i], c='b', s=15) # s���Ƶ�Ĵ�С\n",
    "        plt.annotate('TPR : {:.3f}'.format(target_tpr), xy=([target_threshold, target_tpr]), xytext=(0.3, target_tpr),\n",
    "                 arrowprops=dict(arrowstyle=\"<-\", color='r')) \n",
    "        plt.annotate('FPR : {:.3f}'.format(target_fpr), xy=([target_threshold, target_fpr]), xytext=(0.2, target_fpr),\n",
    "                 arrowprops=dict(arrowstyle=\"<-\", color='k')) \n",
    "        if filename:\n",
    "            plt.savefig(filename)\n",
    "        plt.show()"
   ]
  },
  {
   "cell_type": "code",
   "execution_count": 186,
   "metadata": {},
   "outputs": [],
   "source": [
    "from sklearn.metrics import confusion_matrix\n",
    "\n",
    "def plot_ks(y_true, y_prob, thresholds_num=1000):\n",
    "    def tpr_fpr_delta(y_true, y_prob, threshold):\n",
    "        y_pred=[int(i>threshold) for i in y_prob]\n",
    "        tn, fp, fn, tp=confusion_matrix(y_true, y_pred).ravel()\n",
    "        fpr=fp/(fp+tn)\n",
    "        tpr=tp/(fn+tp)\n",
    "        delta=tpr-fpr\n",
    "        return fpr, tpr, delta\n",
    "\n",
    "    thresholds=np.linspace(0,1,thresholds_num)\n",
    "    fprs=[]\n",
    "    tprs=[]\n",
    "    deltas=[]\n",
    "    for thres in thresholds:\n",
    "        fpr, tpr, delta=tpr_fpr_delta(y_test, y_prob, thres)\n",
    "        fprs.append(fpr)\n",
    "        tprs.append(tpr)\n",
    "        deltas.append(delta)\n",
    "\n",
    "    max_delta_idx=np.argmax(np.array(deltas))\n",
    "    ks_value=np.max(deltas)\n",
    "\n",
    "    target_fpr=fprs[max_delta_idx]\n",
    "    target_tpr=tprs[max_delta_idx]\n",
    "    target_threshold=thresholds[max_delta_idx]\n",
    "\n",
    "    x=[target_threshold, target_threshold]\n",
    "    y=[target_fpr, target_tpr]\n",
    "\n",
    "    plt.figure(figsize=(8,4))\n",
    "    for i in range(len(x)):    \n",
    "        plt.scatter(x[i], y[i],color='blue',s=20)\n",
    "\n",
    "    plt.plot([x[0],y[0]],[x[1],y[1]], linestyle='--' )\n",
    "\n",
    "    plt.plot(thresholds, tprs, label='TPR',color='r')\n",
    "    plt.plot(thresholds, fprs, label='FPR',color='b')\n",
    "    plt.plot(thresholds, deltas, label='KS',color='y')\n",
    "\n",
    "\n",
    "    plt.annotate(s='TPR: {:.3f}'.format(target_tpr),xy=(target_threshold, target_tpr),xytext=(target_threshold, target_tpr+0.05), arrowprops=dict(arrowstyle='<-',color='k'), fontsize=15)\n",
    "    plt.annotate(s='FPR: {:.3f}'.format(target_fpr),xy=(target_threshold, target_fpr),xytext=(target_threshold-0.1, target_fpr-0.1), arrowprops=dict(arrowstyle='<-',color='k'),fontsize=15)\n",
    "\n",
    "    plt.annotate(s='KS: {:.3f}'.format(ks_value),xy=(target_threshold-0.1, ks_value+0.05), fontsize=15)\n",
    "\n",
    "    plt.legend(loc='upper right') "
   ]
  },
  {
   "cell_type": "code",
   "execution_count": 187,
   "metadata": {},
   "outputs": [
    {
     "data": {
      "image/png": "[encoded data removed]",
      "text/plain": [
       "<Figure size 576x288 with 1 Axes>"
      ]
     },
     "metadata": {},
     "output_type": "display_data"
    }
   ],
   "source": [
    "plot_ks(y_test,y_prob[:,1])"
   ]
  },
  {
   "cell_type": "code",
   "execution_count": null,
   "metadata": {},
   "outputs": [],
   "source": []
  },
  {
   "cell_type": "code",
   "execution_count": null,
   "metadata": {},
   "outputs": [],
   "source": []
  },
  {
   "cell_type": "code",
   "execution_count": null,
   "metadata": {},
   "outputs": [],
   "source": [
    "total_score=clf.predict_proba(data.iloc[:, :-1])[:, 0]*1000\n",
    "total_label=data.iloc[:,-1]"
   ]
  },
  {
   "cell_type": "code",
   "execution_count": 210,
   "metadata": {},
   "outputs": [],
   "source": [
    "def plot_distribution(score,label):\n",
    "    score_distribution=pd.DataFrame(dict(label=label,score=score))\n",
    "\n",
    "    sns.distplot(score_distribution.query(\"label==1\")['score'],color='r',label='bad')\n",
    "    sns.distplot(score_distribution.query(\"label==0\")['score'],color='g',label='good')\n",
    "    \n",
    "    plt.legend(loc='upper right')\n",
    "    "
   ]
  },
  {
   "cell_type": "code",
   "execution_count": 211,
   "metadata": {},
   "outputs": [
    {
     "data": {
      "image/png": "[encoded data removed]",
      "text/plain": [
       "<Figure size 432x288 with 1 Axes>"
      ]
     },
     "metadata": {},
     "output_type": "display_data"
    }
   ],
   "source": [
    "plot_distribution(total_score,total_label)"
   ]
  },
  {
   "cell_type": "code",
   "execution_count": null,
   "metadata": {},
   "outputs": [],
   "source": []
  }
 ],
 "metadata": {
  "kernelspec": {
   "display_name": "Python 3",
   "language": "python",
   "name": "python3"
  },
  "language_info": {
   "codemirror_mode": {
    "name": "ipython",
    "version": 3
   },
   "file_extension": ".py",
   "mimetype": "text/x-python",
   "name": "python",
   "nbconvert_exporter": "python",
   "pygments_lexer": "ipython3",
   "version": "3.7.3"
  },
  "toc": {
   "base_numbering": 1,
   "nav_menu": {},
   "number_sections": true,
   "sideBar": true,
   "skip_h1_title": false,
   "title_cell": "Table of Contents",
   "title_sidebar": "Contents",
   "toc_cell": false,
   "toc_position": {},
   "toc_section_display": true,
   "toc_window_display": false
  }
 },
 "nbformat": 4,
 "nbformat_minor": 2
}
