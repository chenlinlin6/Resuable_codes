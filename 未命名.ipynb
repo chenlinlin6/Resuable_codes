{
 "cells": [
  {
   "cell_type": "code",
   "execution_count": 1,
   "metadata": {},
   "outputs": [],
   "source": [
    "# 导入模块\n",
    "import pandas as pd\n",
    "import numpy as np\n",
    "import matplotlib.pyplot as plt\n",
    "import os\n",
    "import seaborn as sns\n",
    "import logging\n",
    "from tqdm import tqdm\n",
    "import warnings \n",
    "warnings.filterwarnings('ignore')\n",
    "%matplotlib inline\n",
    "plt.rc('font',family='SimHei', size=13)\n",
    "# os.chdir('')"
   ]
  },
  {
   "cell_type": "code",
   "execution_count": 11,
   "metadata": {},
   "outputs": [],
   "source": [
    "data=pd.read_csv('pima-indians-diabetes.data.csv',names=list('abcdefgh')+['target'])"
   ]
  },
  {
   "cell_type": "code",
   "execution_count": 12,
   "metadata": {},
   "outputs": [
    {
     "data": {
      "text/html": [
       "<div>\n",
       "<style scoped>\n",
       "    .dataframe tbody tr th:only-of-type {\n",
       "        vertical-align: middle;\n",
       "    }\n",
       "\n",
       "    .dataframe tbody tr th {\n",
       "        vertical-align: top;\n",
       "    }\n",
       "\n",
       "    .dataframe thead th {\n",
       "        text-align: right;\n",
       "    }\n",
       "</style>\n",
       "<table border=\"1\" class=\"dataframe\">\n",
       "  <thead>\n",
       "    <tr style=\"text-align: right;\">\n",
       "      <th></th>\n",
       "      <th>a</th>\n",
       "      <th>b</th>\n",
       "      <th>c</th>\n",
       "      <th>d</th>\n",
       "      <th>e</th>\n",
       "      <th>f</th>\n",
       "      <th>g</th>\n",
       "      <th>h</th>\n",
       "      <th>target</th>\n",
       "    </tr>\n",
       "  </thead>\n",
       "  <tbody>\n",
       "    <tr>\n",
       "      <th>0</th>\n",
       "      <td>6</td>\n",
       "      <td>148</td>\n",
       "      <td>72</td>\n",
       "      <td>35</td>\n",
       "      <td>0</td>\n",
       "      <td>33.6</td>\n",
       "      <td>0.627</td>\n",
       "      <td>50</td>\n",
       "      <td>1</td>\n",
       "    </tr>\n",
       "    <tr>\n",
       "      <th>1</th>\n",
       "      <td>1</td>\n",
       "      <td>85</td>\n",
       "      <td>66</td>\n",
       "      <td>29</td>\n",
       "      <td>0</td>\n",
       "      <td>26.6</td>\n",
       "      <td>0.351</td>\n",
       "      <td>31</td>\n",
       "      <td>0</td>\n",
       "    </tr>\n",
       "    <tr>\n",
       "      <th>2</th>\n",
       "      <td>8</td>\n",
       "      <td>183</td>\n",
       "      <td>64</td>\n",
       "      <td>0</td>\n",
       "      <td>0</td>\n",
       "      <td>23.3</td>\n",
       "      <td>0.672</td>\n",
       "      <td>32</td>\n",
       "      <td>1</td>\n",
       "    </tr>\n",
       "    <tr>\n",
       "      <th>3</th>\n",
       "      <td>1</td>\n",
       "      <td>89</td>\n",
       "      <td>66</td>\n",
       "      <td>23</td>\n",
       "      <td>94</td>\n",
       "      <td>28.1</td>\n",
       "      <td>0.167</td>\n",
       "      <td>21</td>\n",
       "      <td>0</td>\n",
       "    </tr>\n",
       "    <tr>\n",
       "      <th>4</th>\n",
       "      <td>0</td>\n",
       "      <td>137</td>\n",
       "      <td>40</td>\n",
       "      <td>35</td>\n",
       "      <td>168</td>\n",
       "      <td>43.1</td>\n",
       "      <td>2.288</td>\n",
       "      <td>33</td>\n",
       "      <td>1</td>\n",
       "    </tr>\n",
       "  </tbody>\n",
       "</table>\n",
       "</div>"
      ],
      "text/plain": [
       "   a    b   c   d    e     f      g   h  target\n",
       "0  6  148  72  35    0  33.6  0.627  50       1\n",
       "1  1   85  66  29    0  26.6  0.351  31       0\n",
       "2  8  183  64   0    0  23.3  0.672  32       1\n",
       "3  1   89  66  23   94  28.1  0.167  21       0\n",
       "4  0  137  40  35  168  43.1  2.288  33       1"
      ]
     },
     "execution_count": 12,
     "metadata": {},
     "output_type": "execute_result"
    }
   ],
   "source": [
    "data.head()"
   ]
  },
  {
   "cell_type": "code",
   "execution_count": 13,
   "metadata": {},
   "outputs": [
    {
     "data": {
      "text/plain": [
       "(768, 9)"
      ]
     },
     "execution_count": 13,
     "metadata": {},
     "output_type": "execute_result"
    }
   ],
   "source": [
    "data.shape"
   ]
  },
  {
   "cell_type": "code",
   "execution_count": 14,
   "metadata": {},
   "outputs": [],
   "source": [
    "from sklearn.model_selection import train_test_split"
   ]
  },
  {
   "cell_type": "code",
   "execution_count": 20,
   "metadata": {},
   "outputs": [],
   "source": [
    "X_train, X_test,y_train,y_test=train_test_split(data.iloc[:,:-1], data.iloc[:,-1],test_size=0.3)"
   ]
  },
  {
   "cell_type": "code",
   "execution_count": 21,
   "metadata": {},
   "outputs": [
    {
     "data": {
      "text/plain": [
       "(537, 8)"
      ]
     },
     "execution_count": 21,
     "metadata": {},
     "output_type": "execute_result"
    }
   ],
   "source": [
    "X_train.shape"
   ]
  },
  {
   "cell_type": "code",
   "execution_count": 22,
   "metadata": {},
   "outputs": [
    {
     "data": {
      "text/plain": [
       "(537,)"
      ]
     },
     "execution_count": 22,
     "metadata": {},
     "output_type": "execute_result"
    }
   ],
   "source": [
    "y_train.shape"
   ]
  },
  {
   "cell_type": "code",
   "execution_count": 23,
   "metadata": {},
   "outputs": [],
   "source": [
    "import lightgbm as lgb"
   ]
  },
  {
   "cell_type": "code",
   "execution_count": 24,
   "metadata": {},
   "outputs": [],
   "source": [
    "clf=lgb.LGBMClassifier()"
   ]
  },
  {
   "cell_type": "code",
   "execution_count": 27,
   "metadata": {},
   "outputs": [
    {
     "data": {
      "text/plain": [
       "LGBMClassifier(boosting_type='gbdt', class_weight=None, colsample_bytree=1.0,\n",
       "               importance_type='split', learning_rate=0.1, max_depth=-1,\n",
       "               min_child_samples=20, min_child_weight=0.001, min_split_gain=0.0,\n",
       "               n_estimators=100, n_jobs=-1, num_leaves=31, objective=None,\n",
       "               random_state=None, reg_alpha=0.0, reg_lambda=0.0, silent=True,\n",
       "               subsample=1.0, subsample_for_bin=200000, subsample_freq=0)"
      ]
     },
     "execution_count": 27,
     "metadata": {},
     "output_type": "execute_result"
    }
   ],
   "source": [
    "clf.fit(X_train, y_train)"
   ]
  },
  {
   "cell_type": "code",
   "execution_count": 28,
   "metadata": {},
   "outputs": [],
   "source": [
    "y_prob=clf.predict_proba(X_test)"
   ]
  },
  {
   "cell_type": "code",
   "execution_count": 29,
   "metadata": {},
   "outputs": [],
   "source": [
    "y_pred=clf.predict(X_test)"
   ]
  },
  {
   "cell_type": "code",
   "execution_count": 31,
   "metadata": {},
   "outputs": [],
   "source": [
    "from sklearn.metrics import roc_curve, roc_auc_score\n",
    "\n",
    "fpr, tpr,threshold=roc_curve(y_test, y_prob[:,1])"
   ]
  },
  {
   "cell_type": "code",
   "execution_count": 36,
   "metadata": {},
   "outputs": [
    {
     "data": {
      "text/plain": [
       "(80,)"
      ]
     },
     "execution_count": 36,
     "metadata": {},
     "output_type": "execute_result"
    }
   ],
   "source": [
    "fpr.shape"
   ]
  },
  {
   "cell_type": "code",
   "execution_count": 37,
   "metadata": {},
   "outputs": [
    {
     "data": {
      "text/plain": [
       "(80,)"
      ]
     },
     "execution_count": 37,
     "metadata": {},
     "output_type": "execute_result"
    }
   ],
   "source": [
    "tpr.shape"
   ]
  },
  {
   "cell_type": "code",
   "execution_count": 43,
   "metadata": {},
   "outputs": [
    {
     "data": {
      "text/plain": [
       "1.9913567388197877"
      ]
     },
     "execution_count": 43,
     "metadata": {},
     "output_type": "execute_result"
    }
   ],
   "source": [
    "threshold.max()"
   ]
  },
  {
   "cell_type": "code",
   "execution_count": 44,
   "metadata": {},
   "outputs": [
    {
     "data": {
      "text/plain": [
       "8.731072717717671e-05"
      ]
     },
     "execution_count": 44,
     "metadata": {},
     "output_type": "execute_result"
    }
   ],
   "source": [
    "threshold.min()"
   ]
  },
  {
   "cell_type": "code",
   "execution_count": 67,
   "metadata": {},
   "outputs": [],
   "source": [
    "auc_score=round(roc_auc_score(y_test,y_prob[:,1]), 3)"
   ]
  },
  {
   "cell_type": "code",
   "execution_count": 65,
   "metadata": {},
   "outputs": [
    {
     "data": {
      "text/plain": [
       "0.7965432098765431"
      ]
     },
     "execution_count": 65,
     "metadata": {},
     "output_type": "execute_result"
    }
   ],
   "source": [
    "auc_score"
   ]
  },
  {
   "cell_type": "code",
   "execution_count": null,
   "metadata": {},
   "outputs": [],
   "source": [
    "def plot_roc(y_true, y_prob,filename):\n",
    "    "
   ]
  },
  {
   "cell_type": "markdown",
   "metadata": {},
   "source": [
    "### 需要优化调整的地方：\n",
    "- 导入中文的字符\n",
    "- 颜色选好看的颜色\n",
    "- 调整字体大小"
   ]
  },
  {
   "cell_type": "code",
   "execution_count": 78,
   "metadata": {},
   "outputs": [],
   "source": [
    "\n",
    "plt.rcParams['font.sans-serif'] = ['Arial Unicode MS']"
   ]
  },
  {
   "cell_type": "code",
   "execution_count": 78,
   "metadata": {},
   "outputs": [],
   "source": [
    "\n",
    "plt.rcParams['font.sans-serif'] = ['Arial Unicode MS']"
   ]
  },
  {
   "cell_type": "code",
   "execution_count": 84,
   "metadata": {},
   "outputs": [],
   "source": [
    "plt.style.use('ggplot')"
   ]
  },
  {
   "cell_type": "code",
   "execution_count": 105,
   "metadata": {},
   "outputs": [],
   "source": [
    "params={\n",
    "        'font.weight':'normal' #or 'blod'\n",
    "        }\n",
    "plt.rcParams.update(params)"
   ]
  },
  {
   "cell_type": "code",
   "execution_count": 142,
   "metadata": {},
   "outputs": [
    {
     "data": {
      "text/plain": [
       "<matplotlib.legend.Legend at 0x1a27f7cc18>"
      ]
     },
     "execution_count": 142,
     "metadata": {},
     "output_type": "execute_result"
    },
    {
     "data": {
      "image/png": "[encoded data removed]",
      "text/plain": [
       "<Figure size 576x288 with 1 Axes>"
      ]
     },
     "metadata": {},
     "output_type": "display_data"
    }
   ],
   "source": [
    "from matplotlib.font_manager import FontProperties\n",
    "font=FontProperties(fname='/System/Library/Fonts/STHeiti Medium.ttc',size=10)\n",
    "\n",
    "\n",
    "plt.rcParams['font.family']=['sans-serif']\n",
    "# plt.rcParams['font.weight']=['blod']\n",
    "plt.figure(figsize=(8,4))\n",
    "plt.plot(fpr, tpr,label='ROC')\n",
    "\n",
    "plt.xlabel('FPR',fontsize=15)\n",
    "plt.ylabel('Recall',fontsize=15)\n",
    "plt.title('ROC曲线',fontproperties=font,fontsize=20)\n",
    "plt.xticks(fontsize=10)\n",
    "plt.grid(False)\n",
    "plt.fill_between(fpr,tpr,0,color='#AED1E5',alpha=0.25)\n",
    "plt.annotate(s='auc '+str(auc_score),xy=(0.6,0.6),fontsize=20)\n",
    "plt.legend(loc='upper right')"
   ]
  },
  {
   "cell_type": "code",
   "execution_count": null,
   "metadata": {},
   "outputs": [],
   "source": [
    "from sklearn.metrics import roc_curve, roc_auc_score\n",
    "def plot_auc(y_true, y_prob, filename=False):\n",
    "    fpr, tpr,threshold=roc_curve(y_true, y_prob)\n",
    "    \n",
    "    plt.rcParams['font.family']=['sans-serif']\n",
    "    # plt.rcParams['font.weight']=['blod']\n",
    "    plt.figure(figsize=(8,4))\n",
    "    plt.plot(fpr, tpr,label='ROC')\n",
    "\n",
    "    plt.xlabel('FPR',fontsize=15)\n",
    "    plt.ylabel('Recall',fontsize=15)\n",
    "    plt.title('ROC曲线',fontproperties=font,fontsize=20)\n",
    "    plt.xticks(fontsize=10)\n",
    "    plt.grid(False)\n",
    "    plt.fill_between(fpr,tpr,0,color='#AED1E5',alpha=0.25)\n",
    "    plt.annotate(s='auc '+str(auc_score),xy=(0.6,0.6),fontsize=20)\n",
    "    plt.legend(loc='upper right')\n",
    "    \n",
    "    if filename:\n",
    "        plt.savefig(filename)"
   ]
  },
  {
   "cell_type": "code",
   "execution_count": 108,
   "metadata": {},
   "outputs": [
    {
     "data": {
      "image/png": "[encoded data removed]",
      "text/plain": [
       "<Figure size 432x72 with 1 Axes>"
      ]
     },
     "metadata": {},
     "output_type": "display_data"
    }
   ],
   "source": [
    "sns.palplot(sns.light_palette(\"green\"))"
   ]
  },
  {
   "cell_type": "code",
   "execution_count": 110,
   "metadata": {},
   "outputs": [
    {
     "data": {
      "image/png": "[encoded data removed]",
      "text/plain": [
       "<Figure size 432x72 with 1 Axes>"
      ]
     },
     "metadata": {},
     "output_type": "display_data"
    }
   ],
   "source": [
    "sns.palplot(sns.color_palette(\"Blues\"))"
   ]
  },
  {
   "cell_type": "code",
   "execution_count": 111,
   "metadata": {},
   "outputs": [
    {
     "data": {
      "image/png": "[encoded data removed]",
      "text/plain": [
       "<Figure size 432x72 with 1 Axes>"
      ]
     },
     "metadata": {},
     "output_type": "display_data"
    }
   ],
   "source": [
    "sns.palplot(sns.color_palette(\"BuGn_r\"))"
   ]
  },
  {
   "cell_type": "code",
   "execution_count": 133,
   "metadata": {},
   "outputs": [
    {
     "data": {
      "image/png": "[encoded data removed]",
      "text/plain": [
       "<Figure size 504x72 with 1 Axes>"
      ]
     },
     "metadata": {},
     "output_type": "display_data"
    }
   ],
   "source": [
    "sns.palplot(sns.color_palette())"
   ]
  },
  {
   "cell_type": "code",
   "execution_count": 132,
   "metadata": {},
   "outputs": [
    {
     "data": {
      "image/png": "[encoded data removed]",
      "text/plain": [
       "<Figure size 432x72 with 1 Axes>"
      ]
     },
     "metadata": {},
     "output_type": "display_data"
    }
   ],
   "source": [
    "sns.palplot(sns.light_palette(\"navy\"))"
   ]
  },
  {
   "cell_type": "code",
   "execution_count": 134,
   "metadata": {},
   "outputs": [
    {
     "data": {
      "image/png": "[encoded data removed]",
      "text/plain": [
       "<Figure size 576x72 with 1 Axes>"
      ]
     },
     "metadata": {},
     "output_type": "display_data"
    }
   ],
   "source": [
    "sns.palplot(sns.cubehelix_palette(8,start=.5,rot=-.75))\n",
    "plt.show()"
   ]
  },
  {
   "cell_type": "code",
   "execution_count": 135,
   "metadata": {},
   "outputs": [
    {
     "data": {
      "image/png": "[encoded data removed]",
      "text/plain": [
       "<Figure size 576x72 with 1 Axes>"
      ]
     },
     "metadata": {},
     "output_type": "display_data"
    }
   ],
   "source": [
    "sns.palplot(sns.cubehelix_palette(8,start=.75,rot=-.150))\n",
    "plt.show()"
   ]
  },
  {
   "cell_type": "code",
   "execution_count": null,
   "metadata": {},
   "outputs": [],
   "source": []
  },
  {
   "cell_type": "code",
   "execution_count": null,
   "metadata": {},
   "outputs": [],
   "source": []
  },
  {
   "cell_type": "code",
   "execution_count": 180,
   "metadata": {},
   "outputs": [],
   "source": [
    "def plot_ks(y_true, y_prob, thresholds_num=1000, filename=False):\n",
    "    \n",
    "    thresholds = np.linspace(np.min(y_prob), np.max(y_prob), thresholds_num)\n",
    "    def tpr_fpr_delta(threshold):\n",
    "        y_pred = np.array([int(i>threshold) for i in y_prob])\n",
    "        tn, fp, fn, tp = confusion_matrix(y_true, y_pred).ravel()\n",
    "        tpr = tp / (tp+fn)\n",
    "        fpr = fp / (fp+tn)\n",
    "        delta = tpr - fpr\n",
    "        return tpr, fpr, delta\n",
    "\n",
    "    tprs, fprs, deltas = np.vectorize(tpr_fpr_delta)(thresholds)\n",
    "    target_tpr = tprs[np.argmax(deltas)]\n",
    "    target_fpr = fprs[np.argmax(deltas)]\n",
    "    target_threshold = thresholds[np.argmax(deltas)]\n",
    "    ks_value = np.max(deltas)\n",
    " \n",
    "    plt.figure(figsize=(8, 4))\n",
    "    plt.plot(thresholds, tprs, label='TPR', color='r', linestyle='-', linewidth=1.5)    \n",
    "    plt.legend(loc='upper right')\n",
    "    plt.plot(thresholds, fprs, label='FPR', color='k', linestyle='-', linewidth=1.5)\n",
    "    plt.legend(loc='upper right')\n",
    "    plt.xlabel('Threshold', fontsize=10)\n",
    "    plt.ylabel('TPR, FPR', fontsize=10)\n",
    "    plt.annotate('KS Value : {:.3f}'.format(ks_value), xy=(target_threshold+0.01, 0.5*ks_value+0.3))\n",
    "    plt.xticks()\n",
    "    plt.title('KS Value')\n",
    "\n",
    "\n",
    "    # Ҫ���ӵ������������\n",
    "    x = [[target_threshold, target_threshold]] \n",
    "    y = [[target_fpr, target_tpr]]\n",
    "\n",
    "    for i in range(len(x)):\n",
    "        plt.plot(x[i], y[i], 'b--', lw=1.5)\n",
    "        plt.scatter(x[i], y[i], c='b', s=15) # s���Ƶ�Ĵ�С\n",
    "        plt.annotate('TPR : {:.3f}'.format(target_tpr), xy=([target_threshold, target_tpr]), xytext=(0.3, target_tpr),\n",
    "                 arrowprops=dict(arrowstyle=\"<-\", color='r')) \n",
    "        plt.annotate('FPR : {:.3f}'.format(target_fpr), xy=([target_threshold, target_fpr]), xytext=(0.2, target_fpr),\n",
    "                 arrowprops=dict(arrowstyle=\"<-\", color='k')) \n",
    "        if filename:\n",
    "            plt.savefig(filename)\n",
    "        plt.show()"
   ]
  },
  {
   "cell_type": "code",
   "execution_count": 186,
   "metadata": {},
   "outputs": [],
   "source": [
    "from sklearn.metrics import confusion_matrix\n",
    "\n",
    "def plot_ks(y_true, y_prob, thresholds_num=1000):\n",
    "    def tpr_fpr_delta(y_true, y_prob, threshold):\n",
    "        y_pred=[int(i>threshold) for i in y_prob]\n",
    "        tn, fp, fn, tp=confusion_matrix(y_true, y_pred).ravel()\n",
    "        fpr=fp/(fp+tn)\n",
    "        tpr=tp/(fn+tp)\n",
    "        delta=tpr-fpr\n",
    "        return fpr, tpr, delta\n",
    "\n",
    "    thresholds=np.linspace(0,1,thresholds_num)\n",
    "    fprs=[]\n",
    "    tprs=[]\n",
    "    deltas=[]\n",
    "    for thres in thresholds:\n",
    "        fpr, tpr, delta=tpr_fpr_delta(y_test, y_prob, thres)\n",
    "        fprs.append(fpr)\n",
    "        tprs.append(tpr)\n",
    "        deltas.append(delta)\n",
    "\n",
    "    max_delta_idx=np.argmax(np.array(deltas))\n",
    "    ks_value=np.max(deltas)\n",
    "\n",
    "    target_fpr=fprs[max_delta_idx]\n",
    "    target_tpr=tprs[max_delta_idx]\n",
    "    target_threshold=thresholds[max_delta_idx]\n",
    "\n",
    "    x=[target_threshold, target_threshold]\n",
    "    y=[target_fpr, target_tpr]\n",
    "\n",
    "    plt.figure(figsize=(8,4))\n",
    "    for i in range(len(x)):    \n",
    "        plt.scatter(x[i], y[i],color='blue',s=20)\n",
    "\n",
    "    plt.plot([x[0],y[0]],[x[1],y[1]], linestyle='--' )\n",
    "\n",
    "    plt.plot(thresholds, tprs, label='TPR',color='r')\n",
    "    plt.plot(thresholds, fprs, label='FPR',color='b')\n",
    "    plt.plot(thresholds, deltas, label='KS',color='y')\n",
    "\n",
    "\n",
    "    plt.annotate(s='TPR: {:.3f}'.format(target_tpr),xy=(target_threshold, target_tpr),xytext=(target_threshold, target_tpr+0.05), arrowprops=dict(arrowstyle='<-',color='k'), fontsize=15)\n",
    "    plt.annotate(s='FPR: {:.3f}'.format(target_fpr),xy=(target_threshold, target_fpr),xytext=(target_threshold-0.1, target_fpr-0.1), arrowprops=dict(arrowstyle='<-',color='k'),fontsize=15)\n",
    "\n",
    "    plt.annotate(s='KS: {:.3f}'.format(ks_value),xy=(target_threshold-0.1, ks_value+0.05), fontsize=15)\n",
    "\n",
    "    plt.legend(loc='upper right') "
   ]
  },
  {
   "cell_type": "code",
   "execution_count": 187,
   "metadata": {},
   "outputs": [
    {
     "data": {
      "image/png": "[encoded data removed]",
      "text/plain": [
       "<Figure size 576x288 with 1 Axes>"
      ]
     },
     "metadata": {},
     "output_type": "display_data"
    }
   ],
   "source": [
    "plot_ks(y_test,y_prob[:,1])"
   ]
  },
  {
   "cell_type": "code",
   "execution_count": 210,
   "metadata": {},
   "outputs": [],
   "source": [
    "def plot_distribution(score,label):\n",
    "    score_distribution=pd.DataFrame(dict(label=label,score=score))\n",
    "\n",
    "    sns.distplot(score_distribution.query(\"label==1\")['score'],color='r',label='bad')\n",
    "    sns.distplot(score_distribution.query(\"label==0\")['score'],color='g',label='good')\n",
    "    \n",
    "    plt.legend(loc='upper right')\n",
    "    "
   ]
  },
  {
   "cell_type": "code",
   "execution_count": null,
   "metadata": {},
   "outputs": [],
   "source": [
    "plot_distribution(sco)"
   ]
  },
  {
   "cell_type": "code",
   "execution_count": 207,
   "metadata": {},
   "outputs": [
    {
     "data": {
      "text/plain": [
       "<matplotlib.axes._subplots.AxesSubplot at 0x1a2d605080>"
      ]
     },
     "execution_count": 207,
     "metadata": {},
     "output_type": "execute_result"
    },
    {
     "data": {
      "image/png": "[encoded data removed]",
      "text/plain": [
       "<Figure size 432x288 with 1 Axes>"
      ]
     },
     "metadata": {},
     "output_type": "display_data"
    }
   ],
   "source": [
    "total_score=clf.predict_proba(data.iloc[:, :-1])[:, 0]*1000\n",
    "total_label=data.iloc[:,-1]\n",
    "\n",
    "score_distribution=pd.DataFrame(dict(label=total_label,score=total_score))\n",
    "\n",
    "sns.distplot(score_distribution.query(\"label==1\")['score'],color='r')\n",
    "sns.distplot(score_distribution.query(\"label==0\")['score'],color='g')"
   ]
  },
  {
   "cell_type": "code",
   "execution_count": null,
   "metadata": {},
   "outputs": [],
   "source": []
  }
 ],
 "metadata": {
  "kernelspec": {
   "display_name": "Python 3",
   "language": "python",
   "name": "python3"
  },
  "language_info": {
   "codemirror_mode": {
    "name": "ipython",
    "version": 3
   },
   "file_extension": ".py",
   "mimetype": "text/x-python",
   "name": "python",
   "nbconvert_exporter": "python",
   "pygments_lexer": "ipython3",
   "version": "3.7.3"
  },
  "toc": {
   "base_numbering": 1,
   "nav_menu": {},
   "number_sections": true,
   "sideBar": true,
   "skip_h1_title": false,
   "title_cell": "Table of Contents",
   "title_sidebar": "Contents",
   "toc_cell": false,
   "toc_position": {},
   "toc_section_display": true,
   "toc_window_display": false
  }
 },
 "nbformat": 4,
 "nbformat_minor": 2
}
